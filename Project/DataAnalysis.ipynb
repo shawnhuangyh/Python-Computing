{
 "cells": [
  {
   "cell_type": "code",
   "execution_count": 1,
   "metadata": {
    "pycharm": {
     "name": "#%%\n"
    }
   },
   "outputs": [],
   "source": [
    "import numpy as np"
   ]
  },
  {
   "cell_type": "markdown",
   "metadata": {
    "pycharm": {
     "name": "#%% md\n"
    }
   },
   "source": [
    "# 1 导入Label\n",
    "\n",
    "以文本文件格式读入文件夹\\dataanalysis\\label\\下的MTL_Male.dat, CMTL_Male.dat, CEMTL_Male.dat中数据，并且分别读入numpy数组MTLLabel、CMTLLabel或者CEMTLLabel中，对各个数组取绝对值后按照降序排序，并且记录数据元素排序前的下标号\n",
    "\n",
    "## 1.1 文件导入\n",
    "\n",
    "将Label文件夹下的MTLLabel、CMTLLabel和CEMTLLabel三个数据进行导入，其分割符号为回车。"
   ]
  },
  {
   "cell_type": "code",
   "execution_count": 2,
   "metadata": {
    "pycharm": {
     "name": "#%%\n"
    }
   },
   "outputs": [],
   "source": [
    "MTLLabel = np.loadtxt(\"dataanalysis/label/CEMTL_Male.dat\", dtype=float, delimiter=\"\\n\")\n",
    "CMTLLabel = np.loadtxt(\"dataanalysis/label/CMTL_Male.dat\", dtype=float, delimiter=\"\\n\")\n",
    "CEMTLLabel = np.loadtxt(\"dataanalysis/label/MTL_Male.dat\", dtype=float, delimiter=\"\\n\")"
   ]
  },
  {
   "cell_type": "markdown",
   "metadata": {
    "pycharm": {
     "name": "#%% md\n"
    }
   },
   "source": [
    "## 1.2 排序\n",
    "\n",
    "通过np.argsort，可以获取到排序后元素在原序列中的下标。\n",
    "由于numpy中没有设置排序顺序的参数，因此可以通过先将原向量取反进行排序，排序完成后再取反，即可得到降序排序。"
   ]
  },
  {
   "cell_type": "code",
   "execution_count": 3,
   "metadata": {
    "pycharm": {
     "name": "#%%\n"
    }
   },
   "outputs": [],
   "source": [
    "MTLLabel_sorted = np.abs(MTLLabel)\n",
    "MTLLabel_index = np.argsort(-MTLLabel_sorted)\n",
    "MTLLabel_sorted = np.abs(np.sort(-MTLLabel_sorted))"
   ]
  },
  {
   "cell_type": "code",
   "execution_count": 4,
   "metadata": {
    "pycharm": {
     "name": "#%%\n"
    }
   },
   "outputs": [],
   "source": [
    "CMTLLabel_sorted = np.abs(CMTLLabel)\n",
    "CMTLLabel_index = np.argsort(-CMTLLabel_sorted)\n",
    "CMTLLabel_sorted = np.abs(np.sort(-CMTLLabel_sorted))"
   ]
  },
  {
   "cell_type": "code",
   "execution_count": 5,
   "metadata": {
    "pycharm": {
     "name": "#%%\n"
    }
   },
   "outputs": [],
   "source": [
    "CEMTLLabel_sorted = np.abs(CEMTLLabel)\n",
    "CEMTLLabel_index = np.argsort(-CEMTLLabel_sorted)\n",
    "CEMTLLabel_sorted = np.abs(np.sort(-CEMTLLabel_sorted))"
   ]
  },
  {
   "cell_type": "markdown",
   "metadata": {
    "pycharm": {
     "name": "#%% md\n"
    }
   },
   "source": [
    "将排序好的数据resize为一个向量，而不是数组。这可以方便后续进行矩阵运算。"
   ]
  },
  {
   "cell_type": "code",
   "execution_count": 6,
   "metadata": {
    "pycharm": {
     "name": "#%%\n"
    }
   },
   "outputs": [],
   "source": [
    "MTLLabel_vector = np.reshape(MTLLabel_sorted, (MTLLabel_sorted.size, 1))\n",
    "CMTLLabel_vector = np.reshape(CMTLLabel_sorted, (CMTLLabel_sorted.size, 1))\n",
    "CEMTLLabel_vector = np.reshape(CEMTLLabel_sorted, (CEMTLLabel_sorted.size, 1))"
   ]
  },
  {
   "cell_type": "markdown",
   "metadata": {
    "pycharm": {
     "name": "#%% md\n"
    }
   },
   "source": [
    "# 2 导入Train\n",
    "\n",
    "文本文件格式读入文件夹\\dataanalysis\\train\\下的MTL_Male_train.dat中的数据，并且读入numpy矩阵TrainSample中，计算矩阵的行列数（该矩阵包含了1000个维数为3304的样本的观测值，第1-500个样本属于第一类，第501-1000个样本属于第二类，每类含500个样本顺序保存在文件中)。根据(1)中数组的排序（3个数组分别实验），选择最大的k个值（k 取200，400，600，800，1000，...3304维)对应的维度，把TrainSample中的1000个样本降维为k维，并保存到新的矩阵中TrainSub中\n",
    "\n",
    "## 2.1 文件导入\n",
    "\n",
    "将MTL_Male_train.dat导入到numpy矩阵TrainSample中。"
   ]
  },
  {
   "cell_type": "code",
   "execution_count": 7,
   "metadata": {
    "pycharm": {
     "name": "#%%\n"
    }
   },
   "outputs": [],
   "source": [
    "TrainSample = np.loadtxt(\"dataanalysis/train/MTL_Male_train.dat\", dtype=int, delimiter=\",\")"
   ]
  },
  {
   "cell_type": "markdown",
   "metadata": {
    "pycharm": {
     "name": "#%% md\n"
    }
   },
   "source": [
    "矩阵的大小如下："
   ]
  },
  {
   "cell_type": "code",
   "execution_count": 8,
   "metadata": {
    "pycharm": {
     "name": "#%%\n"
    }
   },
   "outputs": [
    {
     "data": {
      "text/plain": [
       "(1000, 3304)"
      ]
     },
     "execution_count": 8,
     "metadata": {},
     "output_type": "execute_result"
    }
   ],
   "source": [
    "TrainSample.shape"
   ]
  },
  {
   "cell_type": "markdown",
   "source": [
    "## 2.2 降低维度\n",
    "\n",
    "编写函数，使得其能够从传入的index数组中一次读取列号，将其依次作为数据的列号，从TrainSample中读取数据，并且保存到新的矩阵中TrainSub中。"
   ],
   "metadata": {
    "collapsed": false,
    "pycharm": {
     "name": "#%% md\n"
    }
   }
  },
  {
   "cell_type": "code",
   "execution_count": 16,
   "metadata": {
    "pycharm": {
     "name": "#%%\n"
    }
   },
   "outputs": [],
   "source": [
    "def reduce_dimension(target: np.ndarray, index: np.ndarray, k: int):\n",
    "    column = list()\n",
    "    for i in range(k):\n",
    "        column.append(index[i])\n",
    "    return target[:, column]"
   ]
  },
  {
   "cell_type": "code",
   "execution_count": 17,
   "metadata": {
    "pycharm": {
     "name": "#%%\n"
    }
   },
   "outputs": [],
   "source": [
    "TrainSub = reduce_dimension(TrainSample, MTLLabel_index, 200)"
   ]
  },
  {
   "cell_type": "code",
   "execution_count": 18,
   "metadata": {
    "pycharm": {
     "name": "#%%\n"
    }
   },
   "outputs": [
    {
     "data": {
      "text/plain": [
       "array([[41, 32,  0, ...,  0, 16,  2],\n",
       "       [ 8,  5, 31, ...,  1, 11,  2],\n",
       "       [49, 75, 52, ...,  6, 21, 21],\n",
       "       ...,\n",
       "       [13, 32,  2, ...,  4, 10,  6],\n",
       "       [32,  0,  1, ...,  5, 19, 10],\n",
       "       [ 9, 33, 19, ...,  1, 17, 10]])"
      ]
     },
     "execution_count": 18,
     "metadata": {},
     "output_type": "execute_result"
    }
   ],
   "source": [
    "TrainSub"
   ]
  },
  {
   "cell_type": "code",
   "execution_count": null,
   "metadata": {
    "pycharm": {
     "name": "#%%\n"
    }
   },
   "outputs": [],
   "source": []
  }
 ],
 "metadata": {
  "kernelspec": {
   "display_name": "Python 3 (ipykernel)",
   "language": "python",
   "name": "python3"
  },
  "language_info": {
   "codemirror_mode": {
    "name": "ipython",
    "version": 3
   },
   "file_extension": ".py",
   "mimetype": "text/x-python",
   "name": "python",
   "nbconvert_exporter": "python",
   "pygments_lexer": "ipython3",
   "version": "3.9.9"
  }
 },
 "nbformat": 4,
 "nbformat_minor": 1
}