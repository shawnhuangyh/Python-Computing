{
 "cells": [
  {
   "cell_type": "code",
   "execution_count": 1,
   "metadata": {
    "pycharm": {
     "name": "#%%\n"
    }
   },
   "outputs": [],
   "source": [
    "import numpy as np\n",
    "import matplotlib.pyplot as plt\n",
    "from tqdm.notebook import trange, tqdm"
   ]
  },
  {
   "cell_type": "markdown",
   "metadata": {
    "pycharm": {
     "name": "#%% md\n"
    }
   },
   "source": [
    "# 1 导入Label\n",
    "\n",
    "以文本文件格式读入文件夹\\dataanalysis\\label\\下的MTL_Male.dat, CMTL_Male.dat, CEMTL_Male.dat中数据，并且分别读入numpy数组MTLLabel、CMTLLabel或者CEMTLLabel中，对各个数组取绝对值后按照降序排序，并且记录数据元素排序前的下标号。\n",
    "\n",
    "## 1.1 文件导入\n",
    "\n",
    "将Label文件夹下的MTLLabel、CMTLLabel和CEMTLLabel三个数据进行导入，其分割符号为回车。"
   ]
  },
  {
   "cell_type": "code",
   "execution_count": 2,
   "metadata": {
    "pycharm": {
     "name": "#%%\n"
    }
   },
   "outputs": [],
   "source": [
    "MTLLabel = np.loadtxt(\"dataanalysis/label/MTL_Male.dat\", dtype=np.float64, delimiter=\"\\n\")\n",
    "CMTLLabel = np.loadtxt(\"dataanalysis/label/CMTL_Male.dat\", dtype=np.float64, delimiter=\"\\n\")\n",
    "CEMTLLabel = np.loadtxt(\"dataanalysis/label/CEMTL_Male.dat\", dtype=np.float64, delimiter=\"\\n\")"
   ]
  },
  {
   "cell_type": "markdown",
   "metadata": {
    "pycharm": {
     "name": "#%% md\n"
    }
   },
   "source": [
    "## 1.2 排序\n",
    "\n",
    "通过np.argsort，可以获取到排序后元素在原序列中的下标。\n",
    "由于numpy中没有设置排序顺序的参数，因此可以通过先将原向量取反进行排序，排序完成后再取反，即可得到降序排序。"
   ]
  },
  {
   "cell_type": "code",
   "execution_count": 3,
   "metadata": {
    "pycharm": {
     "name": "#%%\n"
    }
   },
   "outputs": [],
   "source": [
    "MTLLabel_sorted = np.abs(MTLLabel)\n",
    "MTLLabel_index = np.argsort(-MTLLabel_sorted)\n",
    "MTLLabel_sorted = np.abs(np.sort(-MTLLabel_sorted))\n",
    "CMTLLabel_sorted = np.abs(CMTLLabel)\n",
    "CMTLLabel_index = np.argsort(-CMTLLabel_sorted)\n",
    "CMTLLabel_sorted = np.abs(np.sort(-CMTLLabel_sorted))\n",
    "CEMTLLabel_sorted = np.abs(CEMTLLabel)\n",
    "CEMTLLabel_index = np.argsort(-CEMTLLabel_sorted)\n",
    "CEMTLLabel_sorted = np.abs(np.sort(-CEMTLLabel_sorted))"
   ]
  },
  {
   "cell_type": "markdown",
   "metadata": {
    "pycharm": {
     "name": "#%% md\n"
    }
   },
   "source": [
    "# 2 导入Train\n",
    "\n",
    "文本文件格式读入文件夹\\dataanalysis\\train\\下的MTL_Male_train.dat中的数据，并且读入numpy矩阵TrainSample中，计算矩阵的行列数（该矩阵包含了1000个维数为3304的样本的观测值，第1-500个样本属于第一类，第501-1000个样本属于第二类，每类含500个样本顺序保存在文件中)。根据(1)中数组的排序（3个数组分别实验），选择最大的k个值（k 取200，400，600，800，1000，...3304维)对应的维度，把TrainSample中的1000个样本降维为k维，并保存到新的矩阵中TrainSub中。\n",
    "\n",
    "## 2.1 文件导入\n",
    "\n",
    "将MTL_Male_train.dat导入到numpy矩阵TrainSample中。"
   ]
  },
  {
   "cell_type": "code",
   "execution_count": 4,
   "metadata": {
    "pycharm": {
     "name": "#%%\n"
    }
   },
   "outputs": [],
   "source": [
    "TrainSample = np.loadtxt(\"dataanalysis/train/MTL_Male_train.dat\", dtype=int, delimiter=\",\")"
   ]
  },
  {
   "cell_type": "markdown",
   "metadata": {
    "pycharm": {
     "name": "#%% md\n"
    }
   },
   "source": [
    "矩阵的大小如下："
   ]
  },
  {
   "cell_type": "code",
   "execution_count": 5,
   "metadata": {
    "pycharm": {
     "name": "#%%\n"
    }
   },
   "outputs": [
    {
     "data": {
      "text/plain": "(1000, 3304)"
     },
     "execution_count": 5,
     "metadata": {},
     "output_type": "execute_result"
    }
   ],
   "source": [
    "TrainSample.shape"
   ]
  },
  {
   "cell_type": "markdown",
   "source": [
    "## 2.2 降低维度\n",
    "\n",
    "编写函数，使得其能够从传入的index数组中一次读取列号，将其依次作为数据的列号，从TrainSample中读取数据，并且保存到新的矩阵中TrainSub中。\n",
    "在这里仅编写降低维度的函数，实际操作在(4)中会调用这里的函数。"
   ],
   "metadata": {
    "collapsed": false,
    "pycharm": {
     "name": "#%% md\n"
    }
   }
  },
  {
   "cell_type": "code",
   "execution_count": 6,
   "metadata": {
    "pycharm": {
     "name": "#%%\n"
    }
   },
   "outputs": [],
   "source": [
    "def reduce_dimension(target: np.ndarray, index: np.ndarray, k: int):\n",
    "    column = [index[i] for i in range(k)]\n",
    "    return target[:, column]"
   ]
  },
  {
   "cell_type": "markdown",
   "source": [
    "# 3 导入测试数据\n",
    "\n",
    "对于\\dataanalysis\\test\\下文件作和(2)相同的处理（其中数据矩阵包含了800个维数为3304的样本，第1-400个样本属于第一类，第401-800个样本 属于第二类，每类含400个样本顺序保存在文件中）。"
   ],
   "metadata": {
    "collapsed": false,
    "pycharm": {
     "name": "#%% md\n"
    }
   }
  },
  {
   "cell_type": "code",
   "execution_count": 7,
   "outputs": [],
   "source": [
    "TestSample = np.loadtxt(\"dataanalysis/test/MTL_Male_test.dat\", dtype=int, delimiter=\",\")"
   ],
   "metadata": {
    "collapsed": false,
    "pycharm": {
     "name": "#%%\n"
    }
   }
  },
  {
   "cell_type": "markdown",
   "source": [
    "测试数据的维度为："
   ],
   "metadata": {
    "collapsed": false,
    "pycharm": {
     "name": "#%% md\n"
    }
   }
  },
  {
   "cell_type": "code",
   "execution_count": 8,
   "outputs": [
    {
     "data": {
      "text/plain": "(800, 3304)"
     },
     "execution_count": 8,
     "metadata": {},
     "output_type": "execute_result"
    }
   ],
   "source": [
    "TestSample.shape"
   ],
   "metadata": {
    "collapsed": false,
    "pycharm": {
     "name": "#%%\n"
    }
   }
  },
  {
   "cell_type": "markdown",
   "source": [
    "# 4 分类\n",
    "\n",
    "阅读和学习\\knnexample\\下面关于最近邻分类算法Knn的实现，用(2)中数据训练分类模型，用(3)中数据测试分类结果，统计错误率。\n",
    "\n",
    "# 4.1 分类函数\n",
    "\n",
    "在这里分别有Classify和ClassifyAllCases两个函数。前者是对单条数据进行分类，后者是将测试集中所有的数据调用第一个函数进行测试，随后打印错误率和正确率。"
   ],
   "metadata": {
    "collapsed": false,
    "pycharm": {
     "name": "#%% md\n"
    }
   }
  },
  {
   "cell_type": "code",
   "execution_count": 9,
   "outputs": [],
   "source": [
    "def ClassifyOneCase(train: np.ndarray, case: np.ndarray, point: int):\n",
    "    class_1 = 0\n",
    "    class_2 = 0\n",
    "    distance = np.sum(((train - case) ** 2), axis=1) ** 0.5\n",
    "    ndx = np.argsort(distance)\n",
    "\n",
    "    for j in range(point):\n",
    "        if 0 <= ndx[j] < 500:\n",
    "            class_1 += 1\n",
    "        else:\n",
    "            class_2 += 1\n",
    "\n",
    "    if class_1 > class_2:\n",
    "        return 1\n",
    "    elif class_1 < class_2:\n",
    "        return 2\n",
    "    else:\n",
    "        return 0"
   ],
   "metadata": {
    "collapsed": false,
    "pycharm": {
     "name": "#%%\n"
    }
   }
  },
  {
   "cell_type": "code",
   "execution_count": 10,
   "outputs": [],
   "source": [
    "def ClassifyAllCases(train: np.ndarray, test: np.ndarray, dim: int, point: int):\n",
    "    testcase = test.size // dim\n",
    "    cor = 0\n",
    "    err = 0\n",
    "    for case in range(testcase):\n",
    "        result = ClassifyOneCase(train, test[case], point)\n",
    "        if 0 <= case < testcase // 2:\n",
    "            # if result == 1 or result == 0:\n",
    "            if result == 1:\n",
    "                cor += 1\n",
    "            else:\n",
    "                err += 1\n",
    "        else:\n",
    "            # if result == 2 or result == 0:\n",
    "            if result == 2:\n",
    "                cor += 1\n",
    "            else:\n",
    "                err += 1\n",
    "\n",
    "    correct_rate = cor / testcase\n",
    "    error_rate = err / testcase\n",
    "    return correct_rate, error_rate"
   ],
   "metadata": {
    "collapsed": false,
    "pycharm": {
     "name": "#%%\n"
    }
   }
  },
  {
   "cell_type": "markdown",
   "source": [
    "## 4.2 设置参数\n",
    "\n",
    "在对模型进行训练前，有若干个参数需要进行调整，分别为：\n",
    "\n",
    "- source: 选择哪一个集合的列号进行降维，可选[MTLLabel_index, CMTLLabel_index, CEMTLLabel_index]\n",
    "- dimension: 降维后的维数，取值范围为[1, 3304]，默认为200\n",
    "- k: Knn中看的最近的k个点\n",
    "\n",
    "在这里统一进行调整的主要原因是因为需要让测试集和训练集保持一致。\n",
    "\n",
    "设置完成后，对数据进行降维。"
   ],
   "metadata": {
    "collapsed": false,
    "pycharm": {
     "name": "#%% md\n"
    }
   }
  },
  {
   "cell_type": "code",
   "execution_count": 11,
   "outputs": [],
   "source": [
    "source = np.copy(MTLLabel_index)\n",
    "dimension = 200\n",
    "k = 5"
   ],
   "metadata": {
    "collapsed": false,
    "pycharm": {
     "name": "#%%\n"
    }
   }
  },
  {
   "cell_type": "markdown",
   "source": [
    "# 4.3 进行分类\n",
    "\n",
    "调用之前的函数，进行分类。"
   ],
   "metadata": {
    "collapsed": false,
    "pycharm": {
     "name": "#%% md\n"
    }
   }
  },
  {
   "cell_type": "code",
   "execution_count": 12,
   "outputs": [],
   "source": [
    "def Classify(train: np.ndarray, test: np.ndarray, label: np.ndarray, dim: int, point: int):\n",
    "    train_sub = reduce_dimension(train, label, dim)\n",
    "    test_sub = reduce_dimension(test, label, dim)\n",
    "    return ClassifyAllCases(train_sub, test_sub, dim, point)"
   ],
   "metadata": {
    "collapsed": false,
    "pycharm": {
     "name": "#%%\n"
    }
   }
  },
  {
   "cell_type": "code",
   "execution_count": 13,
   "outputs": [
    {
     "name": "stdout",
     "output_type": "stream",
     "text": [
      "Correct rate: 0.92875\n",
      "Error rate: 0.07125\n"
     ]
    }
   ],
   "source": [
    "correct, error = Classify(TrainSample, TestSample, source, dimension, k)\n",
    "print(\"Correct rate: {}\".format(correct))\n",
    "print(\"Error rate: {}\".format(error))"
   ],
   "metadata": {
    "collapsed": false,
    "pycharm": {
     "name": "#%%\n"
    }
   }
  },
  {
   "cell_type": "markdown",
   "source": [
    "# 5 参数分析\n",
    "\n",
    "# 5.1 与k的关系"
   ],
   "metadata": {
    "collapsed": false,
    "pycharm": {
     "name": "#%% md\n"
    }
   }
  },
  {
   "cell_type": "code",
   "execution_count": 14,
   "outputs": [
    {
     "data": {
      "text/plain": "  0%|          | 0/1000 [00:00<?, ?it/s]",
      "application/vnd.jupyter.widget-view+json": {
       "version_major": 2,
       "version_minor": 0,
       "model_id": "c73f229bf05d423189e0f5060acaba25"
      }
     },
     "metadata": {},
     "output_type": "display_data"
    },
    {
     "data": {
      "text/plain": "<Figure size 432x288 with 1 Axes>",
      "image/png": "[encoded data removed]"
     },
     "metadata": {
      "needs_background": "light"
     },
     "output_type": "display_data"
    }
   ],
   "source": [
    "x = []\n",
    "y = []\n",
    "pbar = tqdm(total=1000)\n",
    "for i in range(1, 1000, 2):\n",
    "    x.append(i)\n",
    "    correct, _ = Classify(TrainSample, TestSample, source, dimension, i)\n",
    "    y.append(correct)\n",
    "    pbar.update(2)\n",
    "\n",
    "pbar.close()\n",
    "plt.plot(x, y)\n",
    "plt.show()"
   ],
   "metadata": {
    "collapsed": false,
    "pycharm": {
     "name": "#%%\n"
    }
   }
  },
  {
   "cell_type": "code",
   "execution_count": 15,
   "outputs": [
    {
     "data": {
      "text/plain": "  0%|          | 0/50 [00:00<?, ?it/s]",
      "application/vnd.jupyter.widget-view+json": {
       "version_major": 2,
       "version_minor": 0,
       "model_id": "778700675a1b4f3297b4a09eb8b7a1fa"
      }
     },
     "metadata": {},
     "output_type": "display_data"
    },
    {
     "data": {
      "text/plain": "<Figure size 432x288 with 1 Axes>",
      "image/png": "[encoded data removed]"
     },
     "metadata": {
      "needs_background": "light"
     },
     "output_type": "display_data"
    }
   ],
   "source": [
    "dic = {}\n",
    "pbar = tqdm(total=50)\n",
    "for i in range(1, 51):\n",
    "    correct, _ = Classify(TrainSample, TestSample, source, dimension, i)\n",
    "    dic[i] = correct\n",
    "    pbar.update(1)\n",
    "\n",
    "pbar.close()\n",
    "x = list(dic.keys())\n",
    "y = list(dic.values())\n",
    "x_max = max(dic, key=dic.get)\n",
    "y_max = dic[x_max]\n",
    "plt.scatter(x, y)\n",
    "plt.text(x_max + 1, y_max, \"({}, {})\".format(x_max, y_max))\n",
    "plt.show()"
   ],
   "metadata": {
    "collapsed": false,
    "pycharm": {
     "name": "#%%\n"
    }
   }
  },
  {
   "cell_type": "markdown",
   "source": [
    "# 5.2 维度大小"
   ],
   "metadata": {
    "collapsed": false,
    "pycharm": {
     "name": "#%% md\n"
    }
   }
  },
  {
   "cell_type": "code",
   "execution_count": 17,
   "outputs": [
    {
     "data": {
      "text/plain": "  0%|          | 0/17 [00:00<?, ?it/s]",
      "application/vnd.jupyter.widget-view+json": {
       "version_major": 2,
       "version_minor": 0,
       "model_id": "63bd5ea4c9004e2eb5d204222568771f"
      }
     },
     "metadata": {},
     "output_type": "display_data"
    },
    {
     "data": {
      "text/plain": "<Figure size 432x288 with 1 Axes>",
      "image/png": "[encoded data removed]"
     },
     "metadata": {
      "needs_background": "light"
     },
     "output_type": "display_data"
    }
   ],
   "source": [
    "k = 9\n",
    "dim = [x for x in range(200, 3304, 200)]\n",
    "dim.append(3304)\n",
    "x = []\n",
    "y = []\n",
    "pbar = tqdm(total=17)\n",
    "for i in dim:\n",
    "    x.append(i)\n",
    "    correct, _ = Classify(TrainSample, TestSample, source, i, k)\n",
    "    y.append(correct)\n",
    "    pbar.update(1)\n",
    "pbar.close()\n",
    "plt.plot(x, y)\n",
    "plt.show()"
   ],
   "metadata": {
    "collapsed": false,
    "pycharm": {
     "name": "#%%\n"
    }
   }
  },
  {
   "cell_type": "code",
   "execution_count": 16,
   "outputs": [],
   "source": [],
   "metadata": {
    "collapsed": false,
    "pycharm": {
     "name": "#%%\n"
    }
   }
  }
 ],
 "metadata": {
  "kernelspec": {
   "display_name": "Python 3 (ipykernel)",
   "language": "python",
   "name": "python3"
  },
  "language_info": {
   "codemirror_mode": {
    "name": "ipython",
    "version": 3
   },
   "file_extension": ".py",
   "mimetype": "text/x-python",
   "name": "python",
   "nbconvert_exporter": "python",
   "pygments_lexer": "ipython3",
   "version": "3.9.9"
  }
 },
 "nbformat": 4,
 "nbformat_minor": 1
}