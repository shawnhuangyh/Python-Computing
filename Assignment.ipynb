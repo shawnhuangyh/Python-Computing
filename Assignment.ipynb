{
 "cells": [
  {
   "cell_type": "markdown",
   "metadata": {
    "pycharm": {
     "name": "#%% md\n"
    }
   },
   "source": [
    "## 说明"
   ]
  },
  {
   "cell_type": "markdown",
   "metadata": {
    "pycharm": {
     "name": "#%% md\n"
    }
   },
   "source": [
    "每一章节的作业都是写在Jupyter Notebook中，不同章节之间有大标题进行分割。\n",
    "\n",
    "\n",
    "问答题的答案会写在题目下一行；填空题的答案会写在题目同行中，并加粗以示区分；代码题将直接使用代码块。\n",
    "\n",
    "\n",
    "由于疫情原因，在京东上购买的第三版纸质书到现在还没有送到，以下所有题目是以第二版电子版的顺序写的，可能和第三版书的顺序存在区别。"
   ]
  },
  {
   "cell_type": "markdown",
   "metadata": {
    "pycharm": {
     "name": "#%% md\n"
    }
   },
   "source": [
    "# 第一章作业"
   ]
  },
  {
   "cell_type": "markdown",
   "metadata": {
    "pycharm": {
     "name": "#%% md\n"
    }
   },
   "source": [
    "1. 简单说明如何选择正确的Python版本？\n",
    "\n",
    "\n",
    "    如今一般情况下使用的大部分的库都是基于Python 3，因此一般情况下选择Python 3即可。"
   ]
  },
  {
   "cell_type": "markdown",
   "metadata": {
    "pycharm": {
     "name": "#%% md\n"
    }
   },
   "source": [
    "2. 为什么说Python采用的是基于值的内存管理模式？\n",
    "\n",
    "    因为在Python中如果修改了某一个变量的值，其在计算机中的地址会发生改变。例如，如果令x=3，则id(x)= 4384891208，随后如果修改x+=1，其id(x)= 4384891240，与先前的结果不同。"
   ]
  },
  {
   "cell_type": "markdown",
   "metadata": {
    "pycharm": {
     "name": "#%% md\n"
    }
   },
   "source": [
    "3. 解释Python中的运算符/和//的区别。\n",
    "\n",
    "    Python中/运算的是普通的除法运算，其会保留运算结果的小数部分；而//运算是整除运算，其得到结果是整数，会去除小数部分的数字。"
   ]
  },
  {
   "cell_type": "markdown",
   "metadata": {
    "pycharm": {
     "name": "#%% md\n"
    }
   },
   "source": [
    "4. 在Python中导入模块中的对象有哪几种方式？\n",
    "\n",
    "    可以通过以下几种方式：（xxx表示模块名）\n",
    "    - Import xxx\n",
    "    - From xxx import yyy\n",
    "    - From xxx import *"
   ]
  },
  {
   "cell_type": "markdown",
   "metadata": {
    "pycharm": {
     "name": "#%% md\n"
    }
   },
   "source": [
    "5.  **Pip**    是目前比较常用的Python扩展库管理工具。"
   ]
  },
  {
   "cell_type": "markdown",
   "metadata": {
    "pycharm": {
     "name": "#%% md\n"
    }
   },
   "source": [
    "6. 解释Python脚本程序的__name__变量及其作用。\n",
    "\n",
    "    Python程序有一个__name__变量，用来表示程序的运行方式。如果他的__name__变量为__main__，则其是程序的主程序入口。"
   ]
  },
  {
   "cell_type": "markdown",
   "metadata": {
    "pycharm": {
     "name": "#%% md\n"
    }
   },
   "source": [
    "7. 运算符%    **可以**    对浮点数进行求余数操作。"
   ]
  },
  {
   "cell_type": "markdown",
   "metadata": {
    "pycharm": {
     "name": "#%% md\n"
    }
   },
   "source": [
    "8. 一个数字5    **是**    合法的Python表达式"
   ]
  },
  {
   "cell_type": "markdown",
   "metadata": {
    "pycharm": {
     "name": "#%% md\n"
    }
   },
   "source": [
    "9. 在Python 2.x中，input()函数接受到的数据类型由    **变量**    确定，而在Python 3.x中该函数则认为接受到的用户输入数据一律为    **字符串**    。"
   ]
  },
  {
   "cell_type": "markdown",
   "metadata": {
    "pycharm": {
     "name": "#%% md\n"
    }
   },
   "source": [
    "10. 编写程序，用户输入一个三位以上的整数，输出其百位以上的数字。例如用户输入1234，则程序输出12。"
   ]
  },
  {
   "cell_type": "code",
   "execution_count": 1,
   "metadata": {
    "pycharm": {
     "name": "#%%\n"
    }
   },
   "outputs": [
    {
     "name": "stdout",
     "output_type": "stream",
     "text": [
      "123\n"
     ]
    }
   ],
   "source": [
    "x = input(\"Please input the number(at least 3 digits):\")\n",
    "\n",
    "if len(x) >= 3:\n",
    "    print(int(x) // 100)\n",
    "else:\n",
    "    print(\"Invalid input.\")"
   ]
  },
  {
   "cell_type": "markdown",
   "metadata": {
    "pycharm": {
     "name": "#%% md\n"
    }
   },
   "source": [
    "# 第二章作业"
   ]
  },
  {
   "cell_type": "markdown",
   "metadata": {
    "pycharm": {
     "name": "#%% md\n"
    }
   },
   "source": [
    "1. 为什么应尽量从列表的尾部进行个元素的增加与删除操作？\n",
    "    因为从中间删除需要将在该元素的后面的元素依次前移，这个过程会消耗时间。而从尾部对元素进行删除不会对其他的元素造成影响。"
   ]
  },
  {
   "cell_type": "markdown",
   "metadata": {
    "pycharm": {
     "name": "#%% md\n"
    }
   },
   "source": [
    "2. Range()函数在Python 2.x中返回一个    **包含若干整数的列表**    ，而Python 3.x的range()函数返回一个    **range可迭代对象**    。"
   ]
  },
  {
   "cell_type": "markdown",
   "metadata": {
    "pycharm": {
     "name": "#%% md\n"
    }
   },
   "source": [
    "3. 编写程序，生成包含1000个0-100之间的随机整数，并统计每个元素的出现次数。"
   ]
  },
  {
   "cell_type": "code",
   "execution_count": 2,
   "metadata": {
    "pycharm": {
     "name": "#%%\n"
    }
   },
   "outputs": [
    {
     "name": "stdout",
     "output_type": "stream",
     "text": [
      "0: 11, 1: 11, 2: 11, 3: 8, 4: 5, 5: 7, 6: 9, 7: 6, 8: 13, 9: 8, 10: 14, 11: 10, 12: 11, 13: 13, 14: 9, 15: 5, 16: 12, 17: 13, 18: 11, 19: 10, 20: 5, 21: 7, 22: 16, 23: 11, 24: 11, 25: 6, 26: 11, 27: 9, 28: 12, 29: 11, 30: 5, 31: 14, 32: 11, 33: 5, 34: 8, 35: 11, 36: 12, 37: 12, 38: 12, 39: 12, 40: 6, 41: 12, 42: 6, 43: 8, 44: 7, 45: 10, 46: 11, 47: 7, 48: 10, 49: 9, 50: 10, 51: 11, 52: 12, 53: 16, 54: 7, 55: 6, 56: 8, 57: 5, 58: 6, 59: 10, 60: 6, 61: 14, 62: 8, 63: 14, 64: 10, 65: 10, 66: 12, 67: 8, 68: 7, 69: 15, 70: 13, 71: 7, 72: 6, 73: 4, 74: 8, 75: 11, 76: 11, 77: 14, 78: 10, 79: 14, 80: 12, 81: 15, 82: 13, 83: 8, 84: 10, 85: 12, 86: 9, 87: 11, 88: 10, 89: 13, 90: 5, 91: 11, 92: 9, 93: 12, 94: 7, 95: 8, 96: 15, 97: 14, 98: 10, 99: 11, 100: 8, "
     ]
    }
   ],
   "source": [
    "import random\n",
    "from collections import Counter\n",
    "\n",
    "datalist = [random.randint(0, 100) for i in range(1000)]\n",
    "counter = Counter(datalist)\n",
    "dataset = set(datalist)\n",
    "\n",
    "for i in dataset:\n",
    "    print(i, counter[i], sep=\": \", end=\", \")"
   ]
  },
  {
   "cell_type": "markdown",
   "metadata": {
    "pycharm": {
     "name": "#%% md\n"
    }
   },
   "source": [
    "4. 表达式”[3] in [1,2,3,4]”的值为    **False**    。"
   ]
  },
  {
   "cell_type": "markdown",
   "metadata": {
    "pycharm": {
     "name": "#%% md\n"
    }
   },
   "source": [
    "5. 编写程序，用户输入一个列表和2个整数作为下表，然后输出列表中介于2个下标之间的元素组成的子列表。"
   ]
  },
  {
   "cell_type": "code",
   "execution_count": 3,
   "metadata": {
    "pycharm": {
     "name": "#%%\n"
    }
   },
   "outputs": [
    {
     "name": "stdout",
     "output_type": "stream",
     "text": [
      "[4, 5, 6, 7]\n"
     ]
    }
   ],
   "source": [
    "datalist = eval(input(\"Please input a list:\"))\n",
    "m, n = map(int, input(\"Please input two integer:\").split())\n",
    "\n",
    "newlist = datalist[m:n + 1]\n",
    "print(newlist)"
   ]
  },
  {
   "cell_type": "markdown",
   "metadata": {
    "pycharm": {
     "name": "#%% md\n"
    }
   },
   "source": [
    "6. 列表对象的sort()方法用来对列表元素进行原地排序，该函数返回值为    **None**    。"
   ]
  },
  {
   "cell_type": "markdown",
   "metadata": {
    "pycharm": {
     "name": "#%% md\n"
    }
   },
   "source": [
    "7. 列表对象的    **remove()**    方法删除首次出现的制定元素，如果列表中不存在要删除的元素，则抛出异常。"
   ]
  },
  {
   "cell_type": "markdown",
   "metadata": {
    "pycharm": {
     "name": "#%% md\n"
    }
   },
   "source": [
    "8. 假设列表对象aList的值为[3,4,5,6,7,9,11,13,15,17]，那么切片aList[3:7]得到的值为    **[6,7,9,11]**    。"
   ]
  },
  {
   "cell_type": "markdown",
   "source": [
    "9. 设计一个字典，并编写程序，用户输入内容为\"键\"，然后输出字典中对应的\"值\"，如果用户输入的\"键\"不存在，则输出\"您输入的键不存在\"。"
   ],
   "metadata": {
    "collapsed": false,
    "pycharm": {
     "name": "#%% md\n"
    }
   }
  },
  {
   "cell_type": "code",
   "execution_count": 5,
   "outputs": [
    {
     "name": "stdout",
     "output_type": "stream",
     "text": [
      "Invalid key.\n"
     ]
    }
   ],
   "source": [
    "Dict = {'a': 1, 'b': 2, 'c': 3}\n",
    "key = input(\"Please input key:\")\n",
    "print(Dict.get(key, 'Invalid key.'))"
   ],
   "metadata": {
    "collapsed": false,
    "pycharm": {
     "name": "#%%\n"
    }
   }
  },
  {
   "cell_type": "markdown",
   "source": [],
   "metadata": {
    "collapsed": false,
    "pycharm": {
     "name": "#%% md\n"
    }
   }
  }
 ],
 "metadata": {
  "kernelspec": {
   "display_name": "Python 3 (ipykernel)",
   "language": "python",
   "name": "python3"
  },
  "language_info": {
   "codemirror_mode": {
    "name": "ipython",
    "version": 3
   },
   "file_extension": ".py",
   "mimetype": "text/x-python",
   "name": "python",
   "nbconvert_exporter": "python",
   "pygments_lexer": "ipython3",
   "version": "3.9.9"
  }
 },
 "nbformat": 4,
 "nbformat_minor": 1
}