{
 "cells": [
  {
   "cell_type": "markdown",
   "metadata": {
    "pycharm": {
     "name": "#%% md\n"
    }
   },
   "source": [
    "## 说明"
   ]
  },
  {
   "cell_type": "markdown",
   "metadata": {
    "pycharm": {
     "name": "#%% md\n"
    }
   },
   "source": [
    "每一章节的作业都是写在Jupyter Notebook中，不同章节之间有大标题进行分割。\n",
    "\n",
    "\n",
    "问答题的答案会写在题目下一行；填空题的答案会写在题目同行中，并加粗以示区分；代码题将直接使用代码块。\n",
    "\n",
    "\n",
    "由于疫情原因，在京东上购买的第三版纸质书到现在还没有送到，以下所有题目是以第二版电子版的顺序写的，可能和第三版书的顺序存在区别。"
   ]
  },
  {
   "cell_type": "markdown",
   "metadata": {
    "pycharm": {
     "name": "#%% md\n"
    }
   },
   "source": [
    "# 第一章作业"
   ]
  },
  {
   "cell_type": "markdown",
   "metadata": {
    "pycharm": {
     "name": "#%% md\n"
    }
   },
   "source": [
    "1. 简单说明如何选择正确的Python版本？\n",
    "\n",
    "\n",
    "    如今一般情况下使用的大部分的库都是基于Python 3，因此一般情况下选择Python 3即可。"
   ]
  },
  {
   "cell_type": "markdown",
   "metadata": {
    "pycharm": {
     "name": "#%% md\n"
    }
   },
   "source": [
    "2. 为什么说Python采用的是基于值的内存管理模式？\n",
    "\n",
    "    因为在Python中如果修改了某一个变量的值，其在计算机中的地址会发生改变。例如，如果令x=3，则id(x)= 4384891208，随后如果修改x+=1，其id(x)= 4384891240，与先前的结果不同。"
   ]
  },
  {
   "cell_type": "markdown",
   "metadata": {
    "pycharm": {
     "name": "#%% md\n"
    }
   },
   "source": [
    "3. 解释Python中的运算符/和//的区别。\n",
    "\n",
    "    Python中/运算的是普通的除法运算，其会保留运算结果的小数部分；而//运算是整除运算，其得到结果是整数，会去除小数部分的数字。"
   ]
  },
  {
   "cell_type": "markdown",
   "metadata": {
    "pycharm": {
     "name": "#%% md\n"
    }
   },
   "source": [
    "4. 在Python中导入模块中的对象有哪几种方式？\n",
    "\n",
    "    可以通过以下几种方式：（xxx表示模块名）\n",
    "    - Import xxx\n",
    "    - From xxx import yyy\n",
    "    - From xxx import *"
   ]
  },
  {
   "cell_type": "markdown",
   "metadata": {
    "pycharm": {
     "name": "#%% md\n"
    }
   },
   "source": [
    "5.  **Pip**    是目前比较常用的Python扩展库管理工具。"
   ]
  },
  {
   "cell_type": "markdown",
   "metadata": {
    "pycharm": {
     "name": "#%% md\n"
    }
   },
   "source": [
    "6. 解释Python脚本程序的__name__变量及其作用。\n",
    "\n",
    "    Python程序有一个__name__变量，用来表示程序的运行方式。如果他的__name__变量为__main__，则其是程序的主程序入口。"
   ]
  },
  {
   "cell_type": "markdown",
   "metadata": {
    "pycharm": {
     "name": "#%% md\n"
    }
   },
   "source": [
    "7. 运算符%    **可以**    对浮点数进行求余数操作。"
   ]
  },
  {
   "cell_type": "markdown",
   "metadata": {
    "pycharm": {
     "name": "#%% md\n"
    }
   },
   "source": [
    "8. 一个数字5    **是**    合法的Python表达式"
   ]
  },
  {
   "cell_type": "markdown",
   "metadata": {
    "pycharm": {
     "name": "#%% md\n"
    }
   },
   "source": [
    "9. 在Python 2.x中，input()函数接受到的数据类型由    **变量**    确定，而在Python 3.x中该函数则认为接受到的用户输入数据一律为    **字符串**    。"
   ]
  },
  {
   "cell_type": "markdown",
   "metadata": {
    "pycharm": {
     "name": "#%% md\n"
    }
   },
   "source": [
    "10. 编写程序，用户输入一个三位以上的整数，输出其百位以上的数字。例如用户输入1234，则程序输出12。"
   ]
  },
  {
   "cell_type": "code",
   "execution_count": 1,
   "metadata": {
    "pycharm": {
     "name": "#%%\n"
    }
   },
   "outputs": [
    {
     "name": "stdout",
     "output_type": "stream",
     "text": [
      "Please input the number(at least 3 digits):12345\n",
      "123\n"
     ]
    }
   ],
   "source": [
    "x = input(\"Please input the number(at least 3 digits):\")\n",
    "\n",
    "if len(x) >= 3:\n",
    "    print(int(x) // 100)\n",
    "else:\n",
    "    print(\"Invalid input.\")\n",
    "\n",
    "# Input: 12345"
   ]
  },
  {
   "cell_type": "markdown",
   "metadata": {
    "pycharm": {
     "name": "#%% md\n"
    }
   },
   "source": [
    "# 第二章作业"
   ]
  },
  {
   "cell_type": "markdown",
   "metadata": {
    "pycharm": {
     "name": "#%% md\n"
    }
   },
   "source": [
    "1. 为什么应尽量从列表的尾部进行个元素的增加与删除操作？\n",
    "\n",
    "\n",
    "    因为从中间删除需要将在该元素的后面的元素依次前移，这个过程会消耗时间。而从尾部对元素进行删除不会对其他的元素造成影响。"
   ]
  },
  {
   "cell_type": "markdown",
   "metadata": {
    "pycharm": {
     "name": "#%% md\n"
    }
   },
   "source": [
    "2. Range()函数在Python 2.x中返回一个    **包含若干整数的列表**    ，而Python 3.x的range()函数返回一个    **range可迭代对象**    。"
   ]
  },
  {
   "cell_type": "markdown",
   "metadata": {
    "pycharm": {
     "name": "#%% md\n"
    }
   },
   "source": [
    "3. 编写程序，生成包含1000个0-100之间的随机整数，并统计每个元素的出现次数。"
   ]
  },
  {
   "cell_type": "code",
   "execution_count": 2,
   "metadata": {
    "pycharm": {
     "name": "#%%\n"
    }
   },
   "outputs": [
    {
     "name": "stdout",
     "output_type": "stream",
     "text": [
      "0: 10, 1: 15, 2: 9, 3: 11, 4: 17, 5: 9, 6: 9, 7: 16, 8: 19, 9: 11, 10: 7, 11: 6, 12: 8, 13: 10, 14: 7, 15: 13, 16: 12, 17: 14, 18: 8, 19: 16, 20: 5, 21: 12, 22: 13, 23: 10, 24: 17, 25: 6, 26: 7, 27: 9, 28: 7, 29: 10, 30: 11, 31: 7, 32: 8, 33: 7, 34: 10, 35: 7, 36: 10, 37: 17, 38: 10, 39: 6, 40: 16, 41: 6, 42: 8, 43: 7, 44: 6, 45: 8, 46: 9, 47: 12, 48: 6, 49: 9, 50: 9, 51: 13, 52: 12, 53: 11, 54: 13, 55: 10, 56: 11, 57: 13, 58: 11, 59: 11, 60: 10, 61: 12, 62: 7, 63: 9, 64: 10, 65: 12, 66: 6, 67: 16, 68: 13, 69: 14, 70: 10, 71: 12, 72: 4, 73: 3, 74: 8, 75: 13, 76: 11, 77: 8, 78: 6, 79: 1, 80: 10, 81: 9, 82: 14, 83: 14, 84: 8, 85: 10, 86: 10, 87: 10, 88: 11, 89: 12, 90: 7, 91: 9, 92: 11, 93: 11, 94: 9, 95: 5, 96: 5, 97: 7, 98: 7, 99: 7, 100: 12, "
     ]
    }
   ],
   "source": [
    "import random\n",
    "from collections import Counter\n",
    "\n",
    "datalist = [random.randint(0, 100) for i in range(1000)]\n",
    "counter = Counter(datalist)\n",
    "dataset = set(datalist)\n",
    "\n",
    "for i in dataset:\n",
    "    print(i, counter[i], sep=\": \", end=\", \")"
   ]
  },
  {
   "cell_type": "markdown",
   "metadata": {
    "pycharm": {
     "name": "#%% md\n"
    }
   },
   "source": [
    "4. 表达式”[3] in [1,2,3,4]”的值为    **False**    。"
   ]
  },
  {
   "cell_type": "markdown",
   "metadata": {
    "pycharm": {
     "name": "#%% md\n"
    }
   },
   "source": [
    "5. 编写程序，用户输入一个列表和2个整数作为下表，然后输出列表中介于2个下标之间的元素组成的子列表。"
   ]
  },
  {
   "cell_type": "code",
   "execution_count": 3,
   "metadata": {
    "pycharm": {
     "name": "#%%\n"
    }
   },
   "outputs": [
    {
     "name": "stdout",
     "output_type": "stream",
     "text": [
      "Please input a list:[1,2,3,4,5,6,7,8,9,10]\n",
      "Please input two integer:3 7\n",
      "[4, 5, 6, 7, 8]\n"
     ]
    }
   ],
   "source": [
    "datalist = eval(input(\"Please input a list:\"))\n",
    "m, n = map(int, input(\"Please input two integer:\").split())\n",
    "\n",
    "newlist = datalist[m:n + 1]\n",
    "print(newlist)\n",
    "# Input: [1,2,3,4,5,6,7,8,9,10]\n",
    "# Input: 3 7"
   ]
  },
  {
   "cell_type": "markdown",
   "metadata": {
    "pycharm": {
     "name": "#%% md\n"
    }
   },
   "source": [
    "6. 列表对象的sort()方法用来对列表元素进行原地排序，该函数返回值为    **None**    。"
   ]
  },
  {
   "cell_type": "markdown",
   "metadata": {
    "pycharm": {
     "name": "#%% md\n"
    }
   },
   "source": [
    "7. 列表对象的    **remove()**    方法删除首次出现的制定元素，如果列表中不存在要删除的元素，则抛出异常。"
   ]
  },
  {
   "cell_type": "markdown",
   "metadata": {
    "pycharm": {
     "name": "#%% md\n"
    }
   },
   "source": [
    "8. 假设列表对象aList的值为[3,4,5,6,7,9,11,13,15,17]，那么切片aList[3:7]得到的值为    **[6,7,9,11]**    。"
   ]
  },
  {
   "cell_type": "markdown",
   "metadata": {
    "pycharm": {
     "name": "#%% md\n"
    }
   },
   "source": [
    "9. 设计一个字典，并编写程序，用户输入内容为\"键\"，然后输出字典中对应的\"值\"，如果用户输入的\"键\"不存在，则输出\"您输入的键不存在\"。"
   ]
  },
  {
   "cell_type": "code",
   "execution_count": 4,
   "metadata": {
    "pycharm": {
     "name": "#%%\n"
    }
   },
   "outputs": [
    {
     "name": "stdout",
     "output_type": "stream",
     "text": [
      "Please input key:r\n",
      "Invalid key.\n"
     ]
    }
   ],
   "source": [
    "Dict = {'a': 1, 'b': 2, 'c': 3}\n",
    "key = input(\"Please input key:\")\n",
    "# 使用get函数进行修改\n",
    "print(Dict.get(key, 'Invalid key.'))\n",
    "# Input: r"
   ]
  },
  {
   "cell_type": "markdown",
   "metadata": {
    "pycharm": {
     "name": "#%% md\n"
    }
   },
   "source": [
    "10. 编写程序，生成包含20个随机数的列表，然后将前10个元素升序排列，后10个元素降序摆列，并输出结果。"
   ]
  },
  {
   "cell_type": "code",
   "execution_count": 5,
   "metadata": {
    "pycharm": {
     "name": "#%%\n"
    }
   },
   "outputs": [
    {
     "name": "stdout",
     "output_type": "stream",
     "text": [
      "[89, 82, 82, 55, 52, 34, 31, 22, 20, 20, 27, 34, 36, 43, 44, 55, 60, 67, 81, 88]\n"
     ]
    }
   ],
   "source": [
    "import random\n",
    "\n",
    "num = [random.randint(0, 100) for i in range(20)]\n",
    "# 使用sorted函数返回新列表，对两个切片的内容进行排序修改\n",
    "num[10:] = sorted(num[10:])\n",
    "num[:10] = sorted(num[:10], reverse=True)\n",
    "print(num)"
   ]
  },
  {
   "cell_type": "markdown",
   "metadata": {
    "pycharm": {
     "name": "#%% md\n"
    }
   },
   "source": [
    "11. 在Python中，字典和集合都是用一对    **\"{\"和\"}\"**    作为界定符，字典的每个元素有两个部分组成，即    **键**    和    **值**    ，其中    **键**    不允许重复。"
   ]
  },
  {
   "cell_type": "markdown",
   "metadata": {
    "pycharm": {
     "name": "#%% md\n"
    }
   },
   "source": [
    "12. 使用字典对象的    **items()**    可以返回字典的\"键-值对\"列表，使用字典对象的    **keys()**    方法可以返回字典的\"键\"列表，使用字典对象的    **values()**    方法可以返回字典的\"值\"列表。"
   ]
  },
  {
   "cell_type": "markdown",
   "metadata": {
    "pycharm": {
     "name": "#%% md\n"
    }
   },
   "source": [
    "13. 假设有列表a=['name','age','sex']和b=['Dong',38,'Male']，请使用一个语句将这两个列表的内容转换为字典，并且以列表a中的元素为\"键\"，以列表b中的元素为\"值\"，这个语句可以写为    **dic = dict(zip(a, b))**    。"
   ]
  },
  {
   "cell_type": "markdown",
   "metadata": {
    "pycharm": {
     "name": "#%% md\n"
    }
   },
   "source": [
    "14. 假设有一个列表a，现要求从列表a中每3个元素取1个，并且将取到的元素组成新的列表b，可以使用语句    **b = a[::3]**    。"
   ]
  },
  {
   "cell_type": "markdown",
   "metadata": {
    "pycharm": {
     "name": "#%% md\n"
    }
   },
   "source": [
    "15. 使用列表推倒式生成包含10个数字5的列表，语句可以写为    **a = [5 for i in range(10)]**    。"
   ]
  },
  {
   "cell_type": "markdown",
   "metadata": {
    "pycharm": {
     "name": "#%% md\n"
    }
   },
   "source": [
    "16. **不可以**    使用del命令来删除元组中的部分元素"
   ]
  },
  {
   "cell_type": "markdown",
   "metadata": {
    "pycharm": {
     "name": "#%% md\n"
    }
   },
   "source": [
    "# 第三章作业"
   ]
  },
  {
   "cell_type": "markdown",
   "metadata": {
    "pycharm": {
     "name": "#%% md\n"
    }
   },
   "source": [
    "1. 分析逻辑运算符or的短路求值特性。\n",
    "\n",
    "    例如当出现下列的代码的时候，由于第一个表达式的值已经为真，因此无论第二个表达式的值是什么，其结果均为真。"
   ]
  },
  {
   "cell_type": "code",
   "execution_count": 6,
   "metadata": {
    "pycharm": {
     "name": "#%%\n"
    }
   },
   "outputs": [
    {
     "name": "stdout",
     "output_type": "stream",
     "text": [
      "True\n"
     ]
    }
   ],
   "source": [
    "b = 20\n",
    "a = True or b == 200\n",
    "print(a)"
   ]
  },
  {
   "cell_type": "markdown",
   "metadata": {
    "pycharm": {
     "name": "#%% md\n"
    }
   },
   "source": [
    "2. 编写程序，运行后用户输入4位整数作为年份，判断其是否为闰年。如果年份能够被400整除，则为闰年；如果年份能被4整除单但不能被100整出也是闰年。"
   ]
  },
  {
   "cell_type": "code",
   "execution_count": 7,
   "metadata": {
    "pycharm": {
     "name": "#%%\n"
    }
   },
   "outputs": [
    {
     "name": "stdout",
     "output_type": "stream",
     "text": [
      "2022\n",
      "不是闰年\n"
     ]
    }
   ],
   "source": [
    "year = int(input())\n",
    "if year % 400 == 0 or (year % 4 == 0 and year % 100 != 0):\n",
    "    print(\"是润年\")\n",
    "else:\n",
    "    print(\"不是闰年\")\n",
    "# Input: 2022"
   ]
  },
  {
   "cell_type": "markdown",
   "metadata": {
    "pycharm": {
     "name": "#%% md\n"
    }
   },
   "source": [
    "3. Python提供了两种基本的循环结构：    **for**    和    **while**    。"
   ]
  },
  {
   "cell_type": "markdown",
   "metadata": {
    "pycharm": {
     "name": "#%% md\n"
    }
   },
   "source": [
    "4. 编写程序，生成一个包含50个随机整数的列表，然后删除其中所有奇数"
   ]
  },
  {
   "cell_type": "code",
   "execution_count": 8,
   "metadata": {
    "pycharm": {
     "name": "#%%\n"
    }
   },
   "outputs": [
    {
     "name": "stdout",
     "output_type": "stream",
     "text": [
      "[4, 94, 68, 92, 96, 56, 20, 78, 2, 50, 10, 62, 82, 58, 42, 62, 76]\n"
     ]
    }
   ],
   "source": [
    "import random\n",
    "\n",
    "num = [random.randint(0, 100) for i in range(50)]\n",
    "for i in num[::]:\n",
    "    if i % 2 != 0:\n",
    "        num.remove(i)\n",
    "\n",
    "print(num)"
   ]
  },
  {
   "cell_type": "markdown",
   "metadata": {
    "pycharm": {
     "name": "#%% md\n"
    }
   },
   "source": [
    "5. 编写程序，生成一个包含20个随机整数的列表，然后对其中偶数下标的元素进行降序排列，奇数下标的元素不变。"
   ]
  },
  {
   "cell_type": "code",
   "execution_count": 9,
   "metadata": {
    "pycharm": {
     "name": "#%%\n"
    }
   },
   "outputs": [
    {
     "name": "stdout",
     "output_type": "stream",
     "text": [
      "[62, 40, 54, 20, 52, 54, 48, 36, 47, 77, 29, 44, 29, 42, 22, 30, 18, 21, 15, 18]\n"
     ]
    }
   ],
   "source": [
    "import random\n",
    "\n",
    "num = [random.randint(0, 100) for i in range(20)]\n",
    "num[::2] = sorted(num[::2], reverse=True)\n",
    "print(num)"
   ]
  },
  {
   "cell_type": "markdown",
   "metadata": {
    "pycharm": {
     "name": "#%% md\n"
    }
   },
   "source": [
    "6. 编写程序，用户从键盘输入小于1000的整数，对其进行因式分解。"
   ]
  },
  {
   "cell_type": "code",
   "execution_count": 10,
   "metadata": {
    "pycharm": {
     "name": "#%%\n"
    }
   },
   "outputs": [
    {
     "name": "stdout",
     "output_type": "stream",
     "text": [
      "Input an integer:30\n",
      "30=2*3*5\n"
     ]
    }
   ],
   "source": [
    "x = int(input(\"Input an integer:\"))\n",
    "temp = x\n",
    "i = 2\n",
    "result = []\n",
    "\n",
    "while True:\n",
    "    if temp % i == 0:\n",
    "        result.append(str(i))\n",
    "        temp = temp // i\n",
    "    elif temp == 1:\n",
    "        break\n",
    "    else:\n",
    "        i += 1\n",
    "\n",
    "print(\"{}={}\".format(x, \"*\".join(result)))\n",
    "\n",
    "# Input: 30"
   ]
  },
  {
   "cell_type": "markdown",
   "metadata": {
    "pycharm": {
     "name": "#%% md\n"
    }
   },
   "source": [
    "7. 编写程序，至少使用两种不同的方法计算100以内所有奇数的和\n",
    "\n",
    "(1)"
   ]
  },
  {
   "cell_type": "code",
   "execution_count": 11,
   "metadata": {
    "pycharm": {
     "name": "#%%\n"
    }
   },
   "outputs": [
    {
     "name": "stdout",
     "output_type": "stream",
     "text": [
      "2500\n"
     ]
    }
   ],
   "source": [
    "sum = 0\n",
    "for i in range(1, 101):\n",
    "    if i % 2 != 0:\n",
    "        sum += i\n",
    "\n",
    "print(sum)"
   ]
  },
  {
   "cell_type": "markdown",
   "metadata": {
    "pycharm": {
     "name": "#%% md\n"
    }
   },
   "source": [
    "(2)"
   ]
  },
  {
   "cell_type": "code",
   "execution_count": 12,
   "metadata": {
    "pycharm": {
     "name": "#%%\n"
    }
   },
   "outputs": [
    {
     "name": "stdout",
     "output_type": "stream",
     "text": [
      "2500\n"
     ]
    }
   ],
   "source": [
    "num = [i for i in range(1, 101) if i % 2 != 0]\n",
    "sum = 0\n",
    "for i in num:\n",
    "    sum += i\n",
    "\n",
    "print(sum)"
   ]
  },
  {
   "cell_type": "markdown",
   "metadata": {
    "pycharm": {
     "name": "#%% md\n"
    }
   },
   "source": [
    "8. 编写程序，输出所有由1、2、3、4这四个数字组成的素数，并且在每个素数中每个数字只使用一次。"
   ]
  },
  {
   "cell_type": "code",
   "execution_count": 13,
   "metadata": {
    "pycharm": {
     "name": "#%%\n"
    }
   },
   "outputs": [
    {
     "name": "stdout",
     "output_type": "stream",
     "text": [
      "2\n",
      "3\n",
      "13\n",
      "23\n",
      "31\n",
      "41\n",
      "43\n",
      "241\n",
      "421\n",
      "431\n",
      "1423\n",
      "2143\n",
      "2341\n",
      "4231\n"
     ]
    }
   ],
   "source": [
    "from itertools import permutations\n",
    "\n",
    "\n",
    "def is_prime(x):\n",
    "    if x == 1 or (x % 2 == 0 and x != 2):\n",
    "        return False\n",
    "    for i in range(3, x, 2):\n",
    "        if x % i == 0:\n",
    "            return False\n",
    "    return True\n",
    "\n",
    "\n",
    "num = (1, 2, 3, 4)\n",
    "for i in range(1, 5):\n",
    "    for number in permutations(num, i):\n",
    "        number = int(\"\".join(map(str, number)))\n",
    "        if is_prime(number):\n",
    "            print(number)"
   ]
  },
  {
   "cell_type": "markdown",
   "metadata": {
    "pycharm": {
     "name": "#%% md\n"
    }
   },
   "source": [
    "9. 编写程序，实现分段函数计算。"
   ]
  },
  {
   "cell_type": "code",
   "execution_count": 14,
   "metadata": {
    "pycharm": {
     "name": "#%%\n"
    }
   },
   "outputs": [
    {
     "name": "stdout",
     "output_type": "stream",
     "text": [
      "5\n",
      "10\n"
     ]
    }
   ],
   "source": [
    "x = int(input())\n",
    "if x < 0:\n",
    "    y = 0\n",
    "elif 0 <= x < 5:\n",
    "    y = x\n",
    "elif 5 <= x < 10:\n",
    "    y = 3 * x - 5\n",
    "elif 10 <= x < 20:\n",
    "    y = 0.5 * x - 2\n",
    "else:\n",
    "    y = 0\n",
    "print(y)\n",
    "# Input: 5"
   ]
  },
  {
   "cell_type": "markdown",
   "metadata": {
    "pycharm": {
     "name": "#%% md\n"
    }
   },
   "source": [
    "# 第四章作业"
   ]
  },
  {
   "cell_type": "markdown",
   "metadata": {
    "pycharm": {
     "name": "#%% md\n"
    }
   },
   "source": [
    "1. 假设有一段英文，其中有单独的字母I误写成i，请编写程序进行纠正。"
   ]
  },
  {
   "cell_type": "code",
   "execution_count": 15,
   "metadata": {
    "pycharm": {
     "name": "#%%\n"
    }
   },
   "outputs": [
    {
     "name": "stdout",
     "output_type": "stream",
     "text": [
      "I like eating apples\n"
     ]
    }
   ],
   "source": [
    "import re\n",
    "\n",
    "x = \"i like eating apples\"\n",
    "x = re.sub(r\"\\bi\\b\", \"I\", x)\n",
    "\n",
    "print(x)"
   ]
  },
  {
   "cell_type": "markdown",
   "metadata": {
    "pycharm": {
     "name": "#%% md\n"
    }
   },
   "source": [
    "2. 假设有一段英文，其中有单词中间的字母i误写为I，请编写程序进行纠正。"
   ]
  },
  {
   "cell_type": "code",
   "execution_count": 16,
   "metadata": {
    "pycharm": {
     "name": "#%%\n"
    }
   },
   "outputs": [
    {
     "name": "stdout",
     "output_type": "stream",
     "text": [
      "I like eating apples\n"
     ]
    }
   ],
   "source": [
    "import re\n",
    "\n",
    "x = \"I lIke eatIng apples\"\n",
    "x = re.sub(r\"\\BI\\B\", \"i\", x)\n",
    "\n",
    "print(x)"
   ]
  },
  {
   "cell_type": "markdown",
   "metadata": {
    "pycharm": {
     "name": "#%% md\n"
    }
   },
   "source": [
    "3. 有一段英文文本，其中有单词连续重复了2次，编写程序检查重复的单词并只保留一个。例如，文本内容为\"This is is a desk.\"，程序输出为\"This is a desk.\"。"
   ]
  },
  {
   "cell_type": "code",
   "execution_count": 17,
   "metadata": {
    "pycharm": {
     "name": "#%%\n"
    }
   },
   "outputs": [
    {
     "name": "stdout",
     "output_type": "stream",
     "text": [
      "This is a desk.\n"
     ]
    }
   ],
   "source": [
    "import re\n",
    "\n",
    "x = \"This is is a desk.\"\n",
    "pattern = re.compile(r'\\b(\\w+)(\\s+\\1)+\\b')\n",
    "result = pattern.search(x)\n",
    "# print(result.groups())\n",
    "x = pattern.sub(result.group(1), x)\n",
    "print(x)"
   ]
  },
  {
   "cell_type": "markdown",
   "metadata": {
    "pycharm": {
     "name": "#%% md\n"
    }
   },
   "source": [
    "4. 简单解释Python的字符串驻留机制。\n",
    "\n",
    "    对于一个比较短的字符串，不同的变量如果字符串内容相同，Python字符串会指向同一个地址；如果字符串长度比较长，即使不同的变量的字符内容相同，其也会指向不同的地址。"
   ]
  },
  {
   "cell_type": "markdown",
   "metadata": {
    "pycharm": {
     "name": "#%% md\n"
    }
   },
   "source": [
    "5. 编写程序，用户输入一段英文，然后输出这段英文中所有长度为3个字母的单词。"
   ]
  },
  {
   "cell_type": "code",
   "execution_count": 18,
   "metadata": {
    "pycharm": {
     "name": "#%%\n"
    }
   },
   "outputs": [
    {
     "name": "stdout",
     "output_type": "stream",
     "text": [
      "['sum', 'sun', 'bus', 'dog', 'cat']\n"
     ]
    }
   ],
   "source": [
    "import re\n",
    "\n",
    "x = \"sum sun test night bus light formula dog cat\"\n",
    "pattern = re.compile(r\"\\b\\w{3}\\b\")\n",
    "print(pattern.findall(x))"
   ]
  },
  {
   "cell_type": "markdown",
   "metadata": {
    "pycharm": {
     "name": "#%% md\n"
    }
   },
   "source": [
    "# 第五章作业"
   ]
  },
  {
   "cell_type": "markdown",
   "metadata": {
    "pycharm": {
     "name": "#%% md\n"
    }
   },
   "source": [
    "1. 运行5.3.1节最后的示例代码，查看结果并分析原因。\n",
    "\n",
    "    造成这个问题的原因是多次调用函数并且不为默认值参数传递值时，默认值参数只会在第一次调用时进行解释，下一次调用时其会直接使用上一次的结果，从而影响接下来的调用。使用None作为默认值能够避免这个问题。"
   ]
  },
  {
   "cell_type": "code",
   "execution_count": 19,
   "metadata": {
    "pycharm": {
     "name": "#%%\n"
    }
   },
   "outputs": [
    {
     "name": "stdout",
     "output_type": "stream",
     "text": [
      "[1, 2, 3, 4, 5, '5']\n",
      "['a', 'b', 'aaa']\n",
      "['a']\n",
      "['b']\n"
     ]
    }
   ],
   "source": [
    "def demo(newitem, old_list=None):\n",
    "    if old_list is None:\n",
    "        old_list = []\n",
    "    old_list.append(newitem)\n",
    "    return old_list\n",
    "\n",
    "\n",
    "print(demo('5', [1, 2, 3, 4, 5]))\n",
    "print(demo('aaa', ['a', 'b']))\n",
    "print(demo('a'))\n",
    "print(demo('b'))"
   ]
  },
  {
   "cell_type": "markdown",
   "metadata": {
    "pycharm": {
     "name": "#%% md\n"
    }
   },
   "source": [
    "2. 编写函数，判断一个整数是否为素数，并编写主程序调用这个函数。"
   ]
  },
  {
   "cell_type": "code",
   "execution_count": 20,
   "metadata": {
    "pycharm": {
     "name": "#%%\n"
    }
   },
   "outputs": [
    {
     "name": "stdout",
     "output_type": "stream",
     "text": [
      "True\n",
      "False\n"
     ]
    }
   ],
   "source": [
    "def is_prime(x):\n",
    "    if x == 1 or (x % 2 == 0 and x != 2):\n",
    "        return False\n",
    "    for i in range(3, x, 2):\n",
    "        if x % i == 0:\n",
    "            return False\n",
    "    return True\n",
    "\n",
    "\n",
    "print(is_prime(3))\n",
    "print(is_prime(8))"
   ]
  },
  {
   "cell_type": "markdown",
   "metadata": {
    "pycharm": {
     "name": "#%% md\n"
    }
   },
   "source": [
    "3. 编写函数，接收一个字符串，分别统计大写字母、小写字母、数字、其他字符的个数，并以元祖的形式返回结果。"
   ]
  },
  {
   "cell_type": "code",
   "execution_count": 21,
   "metadata": {
    "pycharm": {
     "name": "#%%\n"
    }
   },
   "outputs": [
    {
     "name": "stdout",
     "output_type": "stream",
     "text": [
      "(1, 10, 1, 4)\n"
     ]
    }
   ],
   "source": [
    "def statistics(str):\n",
    "    cap = norm = num = other = 0\n",
    "    for i in str:\n",
    "        if 'A' <= i <= 'Z':\n",
    "            cap += 1\n",
    "        elif 'a' <= i <= 'z':\n",
    "            norm += 1\n",
    "        elif '0' <= i <= '9':\n",
    "            num += 1\n",
    "        else:\n",
    "            other += 1\n",
    "    return (cap, norm, num, other)\n",
    "\n",
    "\n",
    "x = \"This is a test1.\"\n",
    "print(statistics(x))"
   ]
  },
  {
   "cell_type": "markdown",
   "metadata": {
    "pycharm": {
     "name": "#%% md\n"
    }
   },
   "source": [
    "4. 在函数内部可以通过关键词    **global**    来定义全局变量。"
   ]
  },
  {
   "cell_type": "markdown",
   "metadata": {
    "pycharm": {
     "name": "#%% md\n"
    }
   },
   "source": [
    "5. 如果函数中没有return语句或者return语句不带任何返回值，那么该函数的返回值为    **None**    。"
   ]
  },
  {
   "cell_type": "markdown",
   "metadata": {
    "pycharm": {
     "name": "#%% md\n"
    }
   },
   "source": [
    "6. 调用带有默认值参数的函数时，不能为默认值参数传递任何值，必须用函数定义时设置的默认值。（判断对错）**错误**"
   ]
  },
  {
   "cell_type": "markdown",
   "metadata": {
    "pycharm": {
     "name": "#%% md\n"
    }
   },
   "source": [
    "7. 在Python程序中，局部变量会隐藏同名的全局变量吗？请编写代码进行验证。\n",
    "\n",
    "    其局部变量会隐藏同名的全局变量。"
   ]
  },
  {
   "cell_type": "code",
   "execution_count": 22,
   "metadata": {
    "pycharm": {
     "name": "#%%\n"
    }
   },
   "outputs": [
    {
     "name": "stdout",
     "output_type": "stream",
     "text": [
      "20\n",
      "10\n"
     ]
    }
   ],
   "source": [
    "x = 10\n",
    "\n",
    "\n",
    "def show_value():\n",
    "    x = 20\n",
    "    print(x)\n",
    "\n",
    "\n",
    "show_value()\n",
    "print(x)"
   ]
  },
  {
   "cell_type": "markdown",
   "metadata": {
    "pycharm": {
     "name": "#%% md\n"
    }
   },
   "source": [
    "8. lambda表达式只能用来创建匿名函数，不能为这样的函数起名字。（判断对错）**错误**"
   ]
  },
  {
   "cell_type": "markdown",
   "metadata": {
    "pycharm": {
     "name": "#%% md\n"
    }
   },
   "source": [
    "9. 编写函数，可以接受任意多个整数并输出其中的最大值和所有整数之和。"
   ]
  },
  {
   "cell_type": "code",
   "execution_count": 23,
   "metadata": {
    "pycharm": {
     "name": "#%%\n"
    }
   },
   "outputs": [
    {
     "name": "stdout",
     "output_type": "stream",
     "text": [
      "Max = 6\n",
      "Sum = 21\n"
     ]
    }
   ],
   "source": [
    "def cal(*num):\n",
    "    maxnum = num[0]\n",
    "    sum = 0\n",
    "    for i in num:\n",
    "        if maxnum < i:\n",
    "            maxnum = i\n",
    "        sum += i\n",
    "    print(\"Max = {}\".format(maxnum))\n",
    "    print(\"Sum = {}\".format(sum))\n",
    "\n",
    "\n",
    "cal(1, 2, 3, 4, 5, 6)"
   ]
  },
  {
   "cell_type": "markdown",
   "metadata": {
    "pycharm": {
     "name": "#%% md\n"
    }
   },
   "source": [
    "10. 编写函数，模拟内置函数sum()。"
   ]
  },
  {
   "cell_type": "code",
   "execution_count": 24,
   "metadata": {
    "pycharm": {
     "name": "#%%\n"
    }
   },
   "outputs": [
    {
     "name": "stdout",
     "output_type": "stream",
     "text": [
      "21\n",
      "21\n"
     ]
    }
   ],
   "source": [
    "def my_sum(num):\n",
    "    sum = 0\n",
    "    for i in num:\n",
    "        sum += i\n",
    "    return sum\n",
    "\n",
    "\n",
    "# 列表\n",
    "print(my_sum([1, 2, 3, 4, 5, 6]))\n",
    "# 元组\n",
    "print(my_sum((1, 2, 3, 4, 5, 6)))"
   ]
  },
  {
   "cell_type": "markdown",
   "metadata": {
    "pycharm": {
     "name": "#%% md\n"
    }
   },
   "source": [
    "11. 包含    **yield**    语句的函数可以用来创建生成器。"
   ]
  },
  {
   "cell_type": "markdown",
   "metadata": {
    "pycharm": {
     "name": "#%% md\n"
    }
   },
   "source": [
    "12. 编写函数，模拟内置函数sorted()。"
   ]
  },
  {
   "cell_type": "code",
   "execution_count": 25,
   "metadata": {
    "pycharm": {
     "name": "#%%\n"
    }
   },
   "outputs": [
    {
     "name": "stdout",
     "output_type": "stream",
     "text": [
      "[2, 3, 4, 6, 23, 43, 44]\n"
     ]
    }
   ],
   "source": [
    "def my_sorted(num):\n",
    "    for i in range(1, len(num)):\n",
    "        for j in range(0, len(num) - i):\n",
    "            if num[j] > num[j + 1]:\n",
    "                num[j], num[j + 1] = num[j + 1], num[j]\n",
    "    return num\n",
    "\n",
    "\n",
    "x = [3, 4, 6, 2, 44, 23, 43]\n",
    "print(my_sorted(x))"
   ]
  },
  {
   "cell_type": "markdown",
   "metadata": {
    "pycharm": {
     "name": "#%% md\n"
    }
   },
   "source": [
    "# 第六章作业"
   ]
  },
  {
   "cell_type": "markdown",
   "metadata": {
    "pycharm": {
     "name": "#%% md\n"
    }
   },
   "source": [
    "1. 继承6.5节例6-2中的Person类生成Student类，编写新的函数用来设置学生专业，然后生成该类对象并显示信息。"
   ]
  },
  {
   "cell_type": "code",
   "execution_count": 26,
   "metadata": {
    "pycharm": {
     "name": "#%%\n"
    }
   },
   "outputs": [],
   "source": [
    "class Person(object):\n",
    "    def __init__(self, name='', age=20, sex='man'):\n",
    "        self.setName(name)\n",
    "        self.setAge(age)\n",
    "        self.setSex(sex)\n",
    "\n",
    "    def setName(self, name):\n",
    "        if not isinstance(name, str):\n",
    "            print('name must be string.')\n",
    "            return\n",
    "        self.__name = name\n",
    "\n",
    "    def setAge(self, age):\n",
    "        if not isinstance(age, int):\n",
    "            print('age must be int.')\n",
    "            return\n",
    "        self.__age = age\n",
    "\n",
    "    def setSex(self, sex):\n",
    "        if sex != 'man' and sex != 'woman':\n",
    "            print('sex must be \"man\" or \"woman\"')\n",
    "            return\n",
    "        self.__sex = sex\n",
    "\n",
    "    def show(self):\n",
    "        print('Name:', self.__name)\n",
    "        print('Age:', self.__age)\n",
    "        print('Sex:', self.__sex)"
   ]
  },
  {
   "cell_type": "code",
   "execution_count": 27,
   "metadata": {
    "pycharm": {
     "name": "#%%\n"
    }
   },
   "outputs": [],
   "source": [
    "class Student(Person):\n",
    "    def __init__(self, name='', age=18, sex='man', major='Computer Science'):\n",
    "        super(Student, self).__init__(name, age, sex)\n",
    "        self.setMajor(major)\n",
    "\n",
    "    def setMajor(self, major):\n",
    "        if not isinstance(major, str):\n",
    "            print(\"major must be string.\")\n",
    "            return\n",
    "        self.__major = major\n",
    "\n",
    "    def show(self):\n",
    "        super(Student, self).show()\n",
    "        print('Major:', self.__major)"
   ]
  },
  {
   "cell_type": "code",
   "execution_count": 28,
   "metadata": {
    "pycharm": {
     "name": "#%%\n"
    }
   },
   "outputs": [
    {
     "name": "stdout",
     "output_type": "stream",
     "text": [
      "Name: Zhang San\n",
      "Age: 19\n",
      "Sex: man\n",
      "Major: Computer Science\n"
     ]
    }
   ],
   "source": [
    "x = Student('Zhang San', 19, 'man', 'Computer Science')\n",
    "x.show()"
   ]
  },
  {
   "cell_type": "markdown",
   "metadata": {
    "pycharm": {
     "name": "#%% md\n"
    }
   },
   "source": [
    "2. 设计一个三维向量类，并实现向量的加法、减法以及向量与标量的乘法运算。"
   ]
  },
  {
   "cell_type": "code",
   "execution_count": 29,
   "metadata": {
    "pycharm": {
     "name": "#%%\n"
    }
   },
   "outputs": [],
   "source": [
    "class Vector(object):\n",
    "    def __init__(self, x=0, y=0, z=0):\n",
    "        self.__x = x\n",
    "        self.__y = y\n",
    "        self.__z = z\n",
    "\n",
    "    def get_elem(self):\n",
    "        return self.__x, self.__y, self.__z\n",
    "\n",
    "    def show(self):\n",
    "        print(\"({}, {}, {})\".format(self.__x, self.__y, self.__z))\n",
    "\n",
    "    def set_elem(self, x, y, z):\n",
    "        self.__x = x\n",
    "        self.__y = y\n",
    "        self.__z = z\n",
    "\n",
    "    def __add__(self, n):\n",
    "        if isinstance(n, Vector):\n",
    "            x, y, z = n.get_elem()\n",
    "            temp = Vector()\n",
    "            temp.set_elem(self.__x + x, self.__y + y, self.__z + z)\n",
    "            return temp\n",
    "        else:\n",
    "            print(\"Invalid input.\")\n",
    "            return\n",
    "\n",
    "    def __sub__(self, n):\n",
    "        if isinstance(n, Vector):\n",
    "            x, y, z = n.get_elem()\n",
    "            temp = Vector()\n",
    "            temp.set_elem(self.__x - x, self.__y - y, self.__z - z)\n",
    "            return self\n",
    "        else:\n",
    "            print(\"Invalid input.\")\n",
    "            return\n",
    "\n",
    "    def __mul__(self, n):\n",
    "        if isinstance(n, Vector):\n",
    "            x, y, z = n.get_elem()\n",
    "            sum = x * self.__x + y * self.__y + z * self.__z\n",
    "            return sum\n",
    "        elif isinstance(n, int):\n",
    "            temp = Vector()\n",
    "            temp.set_elem(self.__x * n, self.__y * n, self.__z * n)\n",
    "            return temp\n",
    "        else:\n",
    "            print(\"Invalid input.\")\n",
    "            return"
   ]
  },
  {
   "cell_type": "code",
   "execution_count": 30,
   "metadata": {
    "pycharm": {
     "name": "#%%\n"
    }
   },
   "outputs": [
    {
     "name": "stdout",
     "output_type": "stream",
     "text": [
      "(4, 6, 8)\n",
      "(1, 2, 3)\n",
      "(2, 4, 6)\n",
      "26\n"
     ]
    }
   ],
   "source": [
    "x = Vector(1, 2, 3)\n",
    "y = Vector(3, 4, 5)\n",
    "(x + y).show()\n",
    "(x - y).show()\n",
    "(x * 2).show()\n",
    "print(x * y)"
   ]
  },
  {
   "cell_type": "markdown",
   "metadata": {
    "pycharm": {
     "name": "#%% md\n"
    }
   },
   "source": [
    "3. 面向对象程序设计的三要素分别为    **封装**    、    **继承**    和    **多态**    。"
   ]
  },
  {
   "cell_type": "markdown",
   "metadata": {
    "pycharm": {
     "name": "#%% md\n"
    }
   },
   "source": [
    "4. 简单解释Python以下划线开头的变量名特点。\n",
    "\n",
    "    Python中以下划线开头的变量主要有以下几个形式：\n",
    "    - __a代表类中私有的方法和变量，其是被封装的，一般无法从外部访问。\n",
    "    - __init__等是Python中预留的方法，其对应的是各种特殊方法。例如左边展示的是构造函数。"
   ]
  },
  {
   "cell_type": "markdown",
   "metadata": {
    "pycharm": {
     "name": "#%% md\n"
    }
   },
   "source": [
    "5. 与运算符\"**\"对应的特殊方法名为    ``__pow__()``    ，与运算符\"//\"对应的特殊方法名为    ``__floordiv__()``。"
   ]
  },
  {
   "cell_type": "markdown",
   "metadata": {
    "pycharm": {
     "name": "#%% md\n"
    }
   },
   "source": [
    "6. 假设a为类A的对象且包含一个私有数据成员\"__value\"，那么在类的外部通过对象a直接将私有数据成员\"__value\"的值设置为3的语句可以写作    ``a._A__value = 3``    。"
   ]
  }
 ],
 "metadata": {
  "kernelspec": {
   "display_name": "Python 3 (ipykernel)",
   "language": "python",
   "name": "python3"
  },
  "language_info": {
   "codemirror_mode": {
    "name": "ipython",
    "version": 3
   },
   "file_extension": ".py",
   "mimetype": "text/x-python",
   "name": "python",
   "nbconvert_exporter": "python",
   "pygments_lexer": "ipython3",
   "version": "3.9.9"
  }
 },
 "nbformat": 4,
 "nbformat_minor": 1
}