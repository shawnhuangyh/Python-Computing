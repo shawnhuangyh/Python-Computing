{
 "cells": [
  {
   "cell_type": "markdown",
   "metadata": {
    "pycharm": {
     "name": "#%% md\n"
    }
   },
   "source": [
    "## 说明"
   ]
  },
  {
   "cell_type": "markdown",
   "metadata": {
    "pycharm": {
     "name": "#%% md\n"
    }
   },
   "source": [
    "每一章节的作业都是写在Jupyter Notebook中，不同章节之间有大标题进行分割。\n",
    "\n",
    "\n",
    "问答题的答案会写在题目下一行；填空题的答案会写在题目同行中，并加粗以示区分；代码题将直接使用代码块。\n",
    "\n",
    "\n",
    "由于疫情原因，在京东上购买的第三版纸质书到现在还没有送到，以下所有题目是以第二版电子版的顺序写的，可能和第三版书的顺序存在区别。"
   ]
  },
  {
   "cell_type": "markdown",
   "metadata": {
    "pycharm": {
     "name": "#%% md\n"
    }
   },
   "source": [
    "# 第一章作业"
   ]
  },
  {
   "cell_type": "markdown",
   "metadata": {
    "pycharm": {
     "name": "#%% md\n"
    }
   },
   "source": [
    "1. 简单说明如何选择正确的Python版本？\n",
    "\n",
    "\n",
    "    如今一般情况下使用的大部分的库都是基于Python 3，因此一般情况下选择Python 3即可。"
   ]
  },
  {
   "cell_type": "markdown",
   "metadata": {
    "pycharm": {
     "name": "#%% md\n"
    }
   },
   "source": [
    "2. 为什么说Python采用的是基于值的内存管理模式？\n",
    "\n",
    "    因为在Python中如果修改了某一个变量的值，其在计算机中的地址会发生改变。例如，如果令x=3，则id(x)= 4384891208，随后如果修改x+=1，其id(x)= 4384891240，与先前的结果不同。"
   ]
  },
  {
   "cell_type": "markdown",
   "metadata": {
    "pycharm": {
     "name": "#%% md\n"
    }
   },
   "source": [
    "3. 解释Python中的运算符/和//的区别。\n",
    "\n",
    "    Python中/运算的是普通的除法运算，其会保留运算结果的小数部分；而//运算是整除运算，其得到结果是整数，会去除小数部分的数字。"
   ]
  },
  {
   "cell_type": "markdown",
   "metadata": {
    "pycharm": {
     "name": "#%% md\n"
    }
   },
   "source": [
    "4. 在Python中导入模块中的对象有哪几种方式？\n",
    "\n",
    "    可以通过以下几种方式：（xxx表示模块名）\n",
    "    - Import xxx\n",
    "    - From xxx import yyy\n",
    "    - From xxx import *"
   ]
  },
  {
   "cell_type": "markdown",
   "metadata": {
    "pycharm": {
     "name": "#%% md\n"
    }
   },
   "source": [
    "5.  **Pip**    是目前比较常用的Python扩展库管理工具。"
   ]
  },
  {
   "cell_type": "markdown",
   "metadata": {
    "pycharm": {
     "name": "#%% md\n"
    }
   },
   "source": [
    "6. 解释Python脚本程序的__name__变量及其作用。\n",
    "\n",
    "    Python程序有一个__name__变量，用来表示程序的运行方式。如果他的__name__变量为__main__，则其是程序的主程序入口。"
   ]
  },
  {
   "cell_type": "markdown",
   "metadata": {
    "pycharm": {
     "name": "#%% md\n"
    }
   },
   "source": [
    "7. 运算符%    **可以**    对浮点数进行求余数操作。"
   ]
  },
  {
   "cell_type": "markdown",
   "metadata": {
    "pycharm": {
     "name": "#%% md\n"
    }
   },
   "source": [
    "8. 一个数字5    **是**    合法的Python表达式"
   ]
  },
  {
   "cell_type": "markdown",
   "metadata": {
    "pycharm": {
     "name": "#%% md\n"
    }
   },
   "source": [
    "9. 在Python 2.x中，input()函数接受到的数据类型由    **变量**    确定，而在Python 3.x中该函数则认为接受到的用户输入数据一律为    **字符串**    。"
   ]
  },
  {
   "cell_type": "markdown",
   "metadata": {
    "pycharm": {
     "name": "#%% md\n"
    }
   },
   "source": [
    "10. 编写程序，用户输入一个三位以上的整数，输出其百位以上的数字。例如用户输入1234，则程序输出12。"
   ]
  },
  {
   "cell_type": "code",
   "execution_count": 6,
   "metadata": {
    "pycharm": {
     "name": "#%%\n"
    }
   },
   "outputs": [
    {
     "name": "stdout",
     "output_type": "stream",
     "text": [
      "123\n"
     ]
    }
   ],
   "source": [
    "x = input(\"Please input the number(at least 3 digits):\")\n",
    "\n",
    "if len(x) >= 3:\n",
    "    print(int(x) // 100)\n",
    "else:\n",
    "    print(\"Invalid input.\")"
   ]
  },
  {
   "cell_type": "markdown",
   "metadata": {
    "pycharm": {
     "name": "#%% md\n"
    }
   },
   "source": [
    "# 第二章作业"
   ]
  },
  {
   "cell_type": "markdown",
   "metadata": {
    "pycharm": {
     "name": "#%% md\n"
    }
   },
   "source": [
    "1. 为什么应尽量从列表的尾部进行个元素的增加与删除操作？\n",
    "\n",
    "\n",
    "    因为从中间删除需要将在该元素的后面的元素依次前移，这个过程会消耗时间。而从尾部对元素进行删除不会对其他的元素造成影响。"
   ]
  },
  {
   "cell_type": "markdown",
   "metadata": {
    "pycharm": {
     "name": "#%% md\n"
    }
   },
   "source": [
    "2. Range()函数在Python 2.x中返回一个    **包含若干整数的列表**    ，而Python 3.x的range()函数返回一个    **range可迭代对象**    。"
   ]
  },
  {
   "cell_type": "markdown",
   "metadata": {
    "pycharm": {
     "name": "#%% md\n"
    }
   },
   "source": [
    "3. 编写程序，生成包含1000个0-100之间的随机整数，并统计每个元素的出现次数。"
   ]
  },
  {
   "cell_type": "code",
   "execution_count": 7,
   "metadata": {
    "pycharm": {
     "name": "#%%\n"
    }
   },
   "outputs": [
    {
     "name": "stdout",
     "output_type": "stream",
     "text": [
      "0: 4, 1: 13, 2: 13, 3: 5, 4: 8, 5: 13, 6: 6, 7: 6, 8: 11, 9: 6, 10: 10, 11: 7, 12: 10, 13: 4, 14: 10, 15: 10, 16: 6, 17: 8, 18: 14, 19: 12, 20: 11, 21: 6, 22: 11, 23: 10, 24: 4, 25: 10, 26: 14, 27: 4, 28: 13, 29: 8, 30: 11, 31: 13, 32: 6, 33: 5, 34: 9, 35: 10, 36: 10, 37: 6, 38: 9, 39: 12, 40: 11, 41: 12, 42: 19, 43: 12, 44: 12, 45: 9, 46: 11, 47: 10, 48: 7, 49: 6, 50: 15, 51: 9, 52: 11, 53: 16, 54: 14, 55: 5, 56: 7, 57: 4, 58: 12, 59: 12, 60: 8, 61: 10, 62: 5, 63: 8, 64: 12, 65: 15, 66: 7, 67: 13, 68: 8, 69: 11, 70: 12, 71: 5, 72: 13, 73: 13, 74: 16, 75: 18, 76: 12, 77: 7, 78: 12, 79: 6, 80: 5, 81: 12, 82: 15, 83: 14, 84: 9, 85: 12, 86: 3, 87: 7, 88: 12, 89: 12, 90: 10, 91: 6, 92: 8, 93: 6, 94: 7, 95: 11, 96: 13, 97: 23, 98: 10, 99: 15, 100: 7, "
     ]
    }
   ],
   "source": [
    "import random\n",
    "from collections import Counter\n",
    "\n",
    "datalist = [random.randint(0, 100) for i in range(1000)]\n",
    "counter = Counter(datalist)\n",
    "dataset = set(datalist)\n",
    "\n",
    "for i in dataset:\n",
    "    print(i, counter[i], sep=\": \", end=\", \")"
   ]
  },
  {
   "cell_type": "markdown",
   "metadata": {
    "pycharm": {
     "name": "#%% md\n"
    }
   },
   "source": [
    "4. 表达式”[3] in [1,2,3,4]”的值为    **False**    。"
   ]
  },
  {
   "cell_type": "markdown",
   "metadata": {
    "pycharm": {
     "name": "#%% md\n"
    }
   },
   "source": [
    "5. 编写程序，用户输入一个列表和2个整数作为下表，然后输出列表中介于2个下标之间的元素组成的子列表。"
   ]
  },
  {
   "cell_type": "code",
   "execution_count": 8,
   "metadata": {
    "pycharm": {
     "name": "#%%\n"
    }
   },
   "outputs": [
    {
     "name": "stdout",
     "output_type": "stream",
     "text": [
      "[4, 5, 6, 7, 8]\n"
     ]
    }
   ],
   "source": [
    "datalist = eval(input(\"Please input a list:\"))\n",
    "m, n = map(int, input(\"Please input two integer:\").split())\n",
    "\n",
    "newlist = datalist[m:n + 1]\n",
    "print(newlist)"
   ]
  },
  {
   "cell_type": "markdown",
   "metadata": {
    "pycharm": {
     "name": "#%% md\n"
    }
   },
   "source": [
    "6. 列表对象的sort()方法用来对列表元素进行原地排序，该函数返回值为    **None**    。"
   ]
  },
  {
   "cell_type": "markdown",
   "metadata": {
    "pycharm": {
     "name": "#%% md\n"
    }
   },
   "source": [
    "7. 列表对象的    **remove()**    方法删除首次出现的制定元素，如果列表中不存在要删除的元素，则抛出异常。"
   ]
  },
  {
   "cell_type": "markdown",
   "metadata": {
    "pycharm": {
     "name": "#%% md\n"
    }
   },
   "source": [
    "8. 假设列表对象aList的值为[3,4,5,6,7,9,11,13,15,17]，那么切片aList[3:7]得到的值为    **[6,7,9,11]**    。"
   ]
  },
  {
   "cell_type": "markdown",
   "metadata": {
    "pycharm": {
     "name": "#%% md\n"
    }
   },
   "source": [
    "9. 设计一个字典，并编写程序，用户输入内容为\"键\"，然后输出字典中对应的\"值\"，如果用户输入的\"键\"不存在，则输出\"您输入的键不存在\"。"
   ]
  },
  {
   "cell_type": "code",
   "execution_count": 9,
   "metadata": {
    "pycharm": {
     "name": "#%%\n"
    }
   },
   "outputs": [
    {
     "name": "stdout",
     "output_type": "stream",
     "text": [
      "Invalid key.\n"
     ]
    }
   ],
   "source": [
    "Dict = {'a': 1, 'b': 2, 'c': 3}\n",
    "key = input(\"Please input key:\")\n",
    "# 使用get函数进行修改\n",
    "print(Dict.get(key, 'Invalid key.'))"
   ]
  },
  {
   "cell_type": "markdown",
   "metadata": {
    "pycharm": {
     "name": "#%% md\n"
    }
   },
   "source": [
    "10. 编写程序，生成包含20个随机数的列表，然后将前10个元素升序排列，后10个元素降序摆列，并输出结果。"
   ]
  },
  {
   "cell_type": "code",
   "execution_count": 10,
   "metadata": {
    "pycharm": {
     "name": "#%%\n"
    }
   },
   "outputs": [
    {
     "name": "stdout",
     "output_type": "stream",
     "text": [
      "[82, 66, 66, 65, 47, 43, 43, 29, 17, 10, 8, 23, 25, 37, 46, 53, 62, 66, 73, 99]\n"
     ]
    }
   ],
   "source": [
    "import random\n",
    "\n",
    "num = [random.randint(0, 100) for i in range(20)]\n",
    "# 使用sorted函数返回新列表，对两个切片的内容进行排序修改\n",
    "num[10:] = sorted(num[10:])\n",
    "num[:10] = sorted(num[:10], reverse=True)\n",
    "print(num)"
   ]
  },
  {
   "cell_type": "markdown",
   "metadata": {
    "pycharm": {
     "name": "#%% md\n"
    }
   },
   "source": [
    "11. 在Python中，字典和集合都是用一对    **\"{\"和\"}\"**    作为界定符，字典的每个元素有两个部分组成，即    **键**    和    **值**    ，其中    **键**    不允许重复。"
   ]
  },
  {
   "cell_type": "markdown",
   "metadata": {
    "pycharm": {
     "name": "#%% md\n"
    }
   },
   "source": [
    "12. 使用字典对象的    **items()**    可以返回字典的\"键-值对\"列表，使用字典对象的    **keys()**    方法可以返回字典的\"键\"列表，使用字典对象的    **values()**    方法可以返回字典的\"值\"列表。"
   ]
  },
  {
   "cell_type": "markdown",
   "metadata": {
    "pycharm": {
     "name": "#%% md\n"
    }
   },
   "source": [
    "13. 假设有列表a=['name','age','sex']和b=['Dong',38,'Male']，请使用一个语句将这两个列表的内容转换为字典，并且以列表a中的元素为\"键\"，以列表b中的元素为\"值\"，这个语句可以写为    **dic = dict(zip(a, b))**    。"
   ]
  },
  {
   "cell_type": "markdown",
   "metadata": {
    "pycharm": {
     "name": "#%% md\n"
    }
   },
   "source": [
    "14. 假设有一个列表a，现要求从列表a中每3个元素取1个，并且将取到的元素组成新的列表b，可以使用语句    **b = a[::3]**    。"
   ]
  },
  {
   "cell_type": "markdown",
   "metadata": {
    "pycharm": {
     "name": "#%% md\n"
    }
   },
   "source": [
    "15. 使用列表推倒式生成包含10个数字5的列表，语句可以写为    **a = [5 for i in range(10)]**    。"
   ]
  },
  {
   "cell_type": "markdown",
   "metadata": {
    "pycharm": {
     "name": "#%% md\n"
    }
   },
   "source": [
    "16. **不可以**    使用del命令来删除元组中的部分元素"
   ]
  },
  {
   "cell_type": "markdown",
   "source": [
    "# 第三章作业"
   ],
   "metadata": {
    "collapsed": false,
    "pycharm": {
     "name": "#%% md\n"
    }
   }
  },
  {
   "cell_type": "markdown",
   "source": [
    "1. 分析逻辑运算符or的短路求值特性。\n",
    "\n",
    "    例如当出现下列的代码的时候，由于第一个表达式的值已经为真，因此无论第二个表达式的值是什么，其结果均为真。"
   ],
   "metadata": {
    "collapsed": false,
    "pycharm": {
     "name": "#%% md\n"
    }
   }
  },
  {
   "cell_type": "code",
   "execution_count": 18,
   "outputs": [
    {
     "name": "stdout",
     "output_type": "stream",
     "text": [
      "True\n"
     ]
    }
   ],
   "source": [
    "b = 20\n",
    "a = True or b == 200\n",
    "print(a)"
   ],
   "metadata": {
    "collapsed": false,
    "pycharm": {
     "name": "#%%\n"
    }
   }
  },
  {
   "cell_type": "markdown",
   "source": [
    "2. 编写程序，运行后用户输入4位整数作为年份，判断其是否为闰年。如果年份能够被400整除，则为闰年；如果年份能被4整除单但不能被100整出也是闰年。"
   ],
   "metadata": {
    "collapsed": false,
    "pycharm": {
     "name": "#%% md\n"
    }
   }
  },
  {
   "cell_type": "code",
   "execution_count": 24,
   "outputs": [
    {
     "name": "stdout",
     "output_type": "stream",
     "text": [
      "是润年\n"
     ]
    }
   ],
   "source": [
    "year = int(input())\n",
    "if year % 400 == 0 or (year % 4 == 0 and year % 100 != 0):\n",
    "    print(\"是润年\")\n",
    "else:\n",
    "    print(\"不是闰年\")"
   ],
   "metadata": {
    "collapsed": false,
    "pycharm": {
     "name": "#%%\n"
    }
   }
  },
  {
   "cell_type": "markdown",
   "source": [
    "3. Python提供了两种基本的循环结构：    **for**    和    **while**    。"
   ],
   "metadata": {
    "collapsed": false,
    "pycharm": {
     "name": "#%% md\n"
    }
   }
  },
  {
   "cell_type": "markdown",
   "source": [
    "4. 编写程序，生成一个包含50个随机整数的列表，然后删除其中所有奇数"
   ],
   "metadata": {
    "collapsed": false,
    "pycharm": {
     "name": "#%% md\n"
    }
   }
  },
  {
   "cell_type": "code",
   "execution_count": 31,
   "outputs": [
    {
     "name": "stdout",
     "output_type": "stream",
     "text": [
      "[100, 20, 84, 54, 44, 98, 30, 44, 78, 46, 78, 10, 0, 46, 100, 76, 58, 98, 6, 10, 8, 66, 96]\n"
     ]
    }
   ],
   "source": [
    "import random\n",
    "\n",
    "num = [random.randint(0, 100) for i in range(50)]\n",
    "for i in num[::]:\n",
    "    if i % 2 != 0:\n",
    "        num.remove(i)\n",
    "\n",
    "print(num)"
   ],
   "metadata": {
    "collapsed": false,
    "pycharm": {
     "name": "#%%\n"
    }
   }
  },
  {
   "cell_type": "markdown",
   "source": [
    "5. 编写程序，生成一个包含20个随机整数的列表，然后对其中偶数下标的元素进行降序排列，奇数下标的元素不变。"
   ],
   "metadata": {
    "collapsed": false,
    "pycharm": {
     "name": "#%% md\n"
    }
   }
  },
  {
   "cell_type": "code",
   "execution_count": 34,
   "outputs": [
    {
     "name": "stdout",
     "output_type": "stream",
     "text": [
      "[79, 67, 69, 63, 51, 51, 45, 74, 41, 78, 26, 81, 25, 100, 19, 10, 5, 6, 1, 39]\n"
     ]
    }
   ],
   "source": [
    "import random\n",
    "\n",
    "num = [random.randint(0, 100) for i in range(20)]\n",
    "num[::2] = sorted(num[::2], reverse=True)\n",
    "print(num)"
   ],
   "metadata": {
    "collapsed": false,
    "pycharm": {
     "name": "#%%\n"
    }
   }
  },
  {
   "cell_type": "markdown",
   "source": [
    "6. 编写程序，用户从键盘输入小于1000的整数，对其进行因式分解。"
   ],
   "metadata": {
    "collapsed": false,
    "pycharm": {
     "name": "#%% md\n"
    }
   }
  },
  {
   "cell_type": "code",
   "execution_count": 35,
   "outputs": [
    {
     "name": "stdout",
     "output_type": "stream",
     "text": [
      "20 = 2*2*5\n"
     ]
    }
   ],
   "source": [
    "x = int(input(\"Input an integer:\"))\n",
    "temp = x\n",
    "i = 2\n",
    "result = []\n",
    "\n",
    "while True:\n",
    "    if temp % i == 0:\n",
    "        result.append(str(i))\n",
    "        temp = temp // i\n",
    "    elif temp == 1:\n",
    "        break\n",
    "    else:\n",
    "        i += 1\n",
    "\n",
    "print(\"{}={}\".format(x, \"*\".join(result)))"
   ],
   "metadata": {
    "collapsed": false,
    "pycharm": {
     "name": "#%%\n"
    }
   }
  },
  {
   "cell_type": "markdown",
   "source": [
    "7. 编写程序，至少使用两种不同的方法计算100以内所有奇数的和\n",
    "\n",
    "(1)"
   ],
   "metadata": {
    "collapsed": false,
    "pycharm": {
     "name": "#%% md\n"
    }
   }
  },
  {
   "cell_type": "code",
   "execution_count": 40,
   "outputs": [
    {
     "name": "stdout",
     "output_type": "stream",
     "text": [
      "2500\n"
     ]
    }
   ],
   "source": [
    "sum = 0\n",
    "for i in range(1, 101):\n",
    "    if i % 2 != 0:\n",
    "        sum += i\n",
    "\n",
    "print(sum)"
   ],
   "metadata": {
    "collapsed": false,
    "pycharm": {
     "name": "#%%\n"
    }
   }
  },
  {
   "cell_type": "markdown",
   "source": [
    "(2)"
   ],
   "metadata": {
    "collapsed": false,
    "pycharm": {
     "name": "#%% md\n"
    }
   }
  },
  {
   "cell_type": "code",
   "execution_count": 53,
   "outputs": [
    {
     "name": "stdout",
     "output_type": "stream",
     "text": [
      "2500\n"
     ]
    }
   ],
   "source": [
    "num = [i for i in range(1, 101) if i % 2 != 0]\n",
    "sum = 0\n",
    "for i in num:\n",
    "    sum += i\n",
    "\n",
    "print(sum)"
   ],
   "metadata": {
    "collapsed": false,
    "pycharm": {
     "name": "#%%\n"
    }
   }
  },
  {
   "cell_type": "markdown",
   "source": [
    "8. 编写程序，输出所有由1、2、3、4这四个数字组成的素数，并且在每个素数中每个数字只使用一次。"
   ],
   "metadata": {
    "collapsed": false,
    "pycharm": {
     "name": "#%% md\n"
    }
   }
  },
  {
   "cell_type": "code",
   "execution_count": 2,
   "outputs": [
    {
     "name": "stdout",
     "output_type": "stream",
     "text": [
      "2\n",
      "3\n",
      "13\n",
      "23\n",
      "31\n",
      "41\n",
      "43\n",
      "241\n",
      "421\n",
      "431\n",
      "1423\n",
      "2143\n",
      "2341\n",
      "4231\n"
     ]
    }
   ],
   "source": [
    "from itertools import permutations\n",
    "\n",
    "\n",
    "def is_prime(x):\n",
    "    if x == 1 or (x % 2 == 0 and x != 2):\n",
    "        return False\n",
    "    for i in range(3, x, 2):\n",
    "        if x % i == 0:\n",
    "            return False\n",
    "    return True\n",
    "\n",
    "\n",
    "num = (1, 2, 3, 4)\n",
    "for i in range(1, 5):\n",
    "    for number in permutations(num, i):\n",
    "        number = int(\"\".join(map(str, number)))\n",
    "        if is_prime(number):\n",
    "            print(number)"
   ],
   "metadata": {
    "collapsed": false,
    "pycharm": {
     "name": "#%%\n"
    }
   }
  },
  {
   "cell_type": "markdown",
   "source": [
    "9. 编写程序，实现分段函数计算。"
   ],
   "metadata": {
    "collapsed": false,
    "pycharm": {
     "name": "#%% md\n"
    }
   }
  },
  {
   "cell_type": "code",
   "execution_count": 56,
   "outputs": [
    {
     "name": "stdout",
     "output_type": "stream",
     "text": [
      "3.0\n"
     ]
    }
   ],
   "source": [
    "x = int(input())\n",
    "if x < 0:\n",
    "    y = 0\n",
    "elif 0 <= x < 5:\n",
    "    y = x\n",
    "elif 5 <= x < 10:\n",
    "    y = 3 * x - 5\n",
    "elif 10 <= x < 20:\n",
    "    y = 0.5 * x - 2\n",
    "else:\n",
    "    y = 0\n",
    "print(y)"
   ],
   "metadata": {
    "collapsed": false,
    "pycharm": {
     "name": "#%%\n"
    }
   }
  },
  {
   "cell_type": "markdown",
   "source": [
    "# 第四章作业"
   ],
   "metadata": {
    "collapsed": false,
    "pycharm": {
     "name": "#%% md\n"
    }
   }
  },
  {
   "cell_type": "code",
   "execution_count": null,
   "outputs": [],
   "source": [],
   "metadata": {
    "collapsed": false,
    "pycharm": {
     "name": "#%%\n"
    }
   }
  }
 ],
 "metadata": {
  "kernelspec": {
   "display_name": "Python 3 (ipykernel)",
   "language": "python",
   "name": "python3"
  },
  "language_info": {
   "codemirror_mode": {
    "name": "ipython",
    "version": 3
   },
   "file_extension": ".py",
   "mimetype": "text/x-python",
   "name": "python",
   "nbconvert_exporter": "python",
   "pygments_lexer": "ipython3",
   "version": "3.9.9"
  }
 },
 "nbformat": 4,
 "nbformat_minor": 1
}